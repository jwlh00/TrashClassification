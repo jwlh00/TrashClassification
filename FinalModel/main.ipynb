{
 "cells": [
  {
   "cell_type": "code",
   "execution_count": null,
   "metadata": {},
   "outputs": [],
   "source": [
    "import cv2\n",
    "import json\n",
    "import base64\n",
    "import torch\n",
    "from PIL import Image\n",
    "from io import BytesIO\n",
    "from ultralytics import YOLO\n",
    "import matplotlib.pyplot as plt\n",
    "import matplotlib.patches as patches\n",
    "from collections import Counter\n",
    "import yaml\n",
    "import os\n",
    "import pandas as pd\n",
    "import os\n",
    "import yaml\n",
    "import pandas as pd\n",
    "from collections import Counter\n",
    "import matplotlib.pyplot as plt\n",
    "from IPython.display import display"
   ]
  },
  {
   "cell_type": "markdown",
   "metadata": {},
   "source": [
    "### Data Analysis"
   ]
  },
  {
   "cell_type": "code",
   "execution_count": null,
   "metadata": {},
   "outputs": [
    {
     "name": "stdout",
     "output_type": "stream",
     "text": [
      "Total Image Count by Split:\n"
     ]
    },
    {
     "data": {
      "text/html": [
       "<div>\n",
       "<style scoped>\n",
       "    .dataframe tbody tr th:only-of-type {\n",
       "        vertical-align: middle;\n",
       "    }\n",
       "\n",
       "    .dataframe tbody tr th {\n",
       "        vertical-align: top;\n",
       "    }\n",
       "\n",
       "    .dataframe thead th {\n",
       "        text-align: right;\n",
       "    }\n",
       "</style>\n",
       "<table border=\"1\" class=\"dataframe\">\n",
       "  <thead>\n",
       "    <tr style=\"text-align: right;\">\n",
       "      <th></th>\n",
       "      <th>Split</th>\n",
       "      <th>Image Count</th>\n",
       "    </tr>\n",
       "  </thead>\n",
       "  <tbody>\n",
       "    <tr>\n",
       "      <th>0</th>\n",
       "      <td>train</td>\n",
       "      <td>2817</td>\n",
       "    </tr>\n",
       "    <tr>\n",
       "      <th>1</th>\n",
       "      <td>test</td>\n",
       "      <td>317</td>\n",
       "    </tr>\n",
       "    <tr>\n",
       "      <th>2</th>\n",
       "      <td>valid</td>\n",
       "      <td>621</td>\n",
       "    </tr>\n",
       "  </tbody>\n",
       "</table>\n",
       "</div>"
      ],
      "text/plain": [
       "   Split  Image Count\n",
       "0  train         2817\n",
       "1   test          317\n",
       "2  valid          621"
      ]
     },
     "metadata": {},
     "output_type": "display_data"
    },
    {
     "name": "stdout",
     "output_type": "stream",
     "text": [
      "Class Distribution Across All Splits:\n"
     ]
    },
    {
     "data": {
      "text/html": [
       "<div>\n",
       "<style scoped>\n",
       "    .dataframe tbody tr th:only-of-type {\n",
       "        vertical-align: middle;\n",
       "    }\n",
       "\n",
       "    .dataframe tbody tr th {\n",
       "        vertical-align: top;\n",
       "    }\n",
       "\n",
       "    .dataframe thead th {\n",
       "        text-align: right;\n",
       "    }\n",
       "</style>\n",
       "<table border=\"1\" class=\"dataframe\">\n",
       "  <thead>\n",
       "    <tr style=\"text-align: right;\">\n",
       "      <th></th>\n",
       "      <th>Count</th>\n",
       "    </tr>\n",
       "  </thead>\n",
       "  <tbody>\n",
       "    <tr>\n",
       "      <th>Paper-Carton</th>\n",
       "      <td>3091</td>\n",
       "    </tr>\n",
       "    <tr>\n",
       "      <th>Metal</th>\n",
       "      <td>1899</td>\n",
       "    </tr>\n",
       "    <tr>\n",
       "      <th>Plastic</th>\n",
       "      <td>2015</td>\n",
       "    </tr>\n",
       "  </tbody>\n",
       "</table>\n",
       "</div>"
      ],
      "text/plain": [
       "              Count\n",
       "Paper-Carton   3091\n",
       "Metal          1899\n",
       "Plastic        2015"
      ]
     },
     "metadata": {},
     "output_type": "display_data"
    },
    {
     "name": "stdout",
     "output_type": "stream",
     "text": [
      "Class Distribution in Train Split:\n"
     ]
    },
    {
     "data": {
      "text/html": [
       "<div>\n",
       "<style scoped>\n",
       "    .dataframe tbody tr th:only-of-type {\n",
       "        vertical-align: middle;\n",
       "    }\n",
       "\n",
       "    .dataframe tbody tr th {\n",
       "        vertical-align: top;\n",
       "    }\n",
       "\n",
       "    .dataframe thead th {\n",
       "        text-align: right;\n",
       "    }\n",
       "</style>\n",
       "<table border=\"1\" class=\"dataframe\">\n",
       "  <thead>\n",
       "    <tr style=\"text-align: right;\">\n",
       "      <th></th>\n",
       "      <th>Count</th>\n",
       "    </tr>\n",
       "    <tr>\n",
       "      <th>Class Name</th>\n",
       "      <th></th>\n",
       "    </tr>\n",
       "  </thead>\n",
       "  <tbody>\n",
       "    <tr>\n",
       "      <th>Paper-Carton</th>\n",
       "      <td>2312</td>\n",
       "    </tr>\n",
       "    <tr>\n",
       "      <th>Metal</th>\n",
       "      <td>1426</td>\n",
       "    </tr>\n",
       "    <tr>\n",
       "      <th>Plastic</th>\n",
       "      <td>1550</td>\n",
       "    </tr>\n",
       "  </tbody>\n",
       "</table>\n",
       "</div>"
      ],
      "text/plain": [
       "              Count\n",
       "Class Name         \n",
       "Paper-Carton   2312\n",
       "Metal          1426\n",
       "Plastic        1550"
      ]
     },
     "metadata": {},
     "output_type": "display_data"
    },
    {
     "name": "stdout",
     "output_type": "stream",
     "text": [
      "Class Distribution in Test Split:\n"
     ]
    },
    {
     "data": {
      "text/html": [
       "<div>\n",
       "<style scoped>\n",
       "    .dataframe tbody tr th:only-of-type {\n",
       "        vertical-align: middle;\n",
       "    }\n",
       "\n",
       "    .dataframe tbody tr th {\n",
       "        vertical-align: top;\n",
       "    }\n",
       "\n",
       "    .dataframe thead th {\n",
       "        text-align: right;\n",
       "    }\n",
       "</style>\n",
       "<table border=\"1\" class=\"dataframe\">\n",
       "  <thead>\n",
       "    <tr style=\"text-align: right;\">\n",
       "      <th></th>\n",
       "      <th>Count</th>\n",
       "    </tr>\n",
       "    <tr>\n",
       "      <th>Class Name</th>\n",
       "      <th></th>\n",
       "    </tr>\n",
       "  </thead>\n",
       "  <tbody>\n",
       "    <tr>\n",
       "      <th>Plastic</th>\n",
       "      <td>134</td>\n",
       "    </tr>\n",
       "    <tr>\n",
       "      <th>Paper-Carton</th>\n",
       "      <td>228</td>\n",
       "    </tr>\n",
       "    <tr>\n",
       "      <th>Metal</th>\n",
       "      <td>173</td>\n",
       "    </tr>\n",
       "  </tbody>\n",
       "</table>\n",
       "</div>"
      ],
      "text/plain": [
       "              Count\n",
       "Class Name         \n",
       "Plastic         134\n",
       "Paper-Carton    228\n",
       "Metal           173"
      ]
     },
     "metadata": {},
     "output_type": "display_data"
    },
    {
     "name": "stdout",
     "output_type": "stream",
     "text": [
      "Class Distribution in Valid Split:\n"
     ]
    },
    {
     "data": {
      "text/html": [
       "<div>\n",
       "<style scoped>\n",
       "    .dataframe tbody tr th:only-of-type {\n",
       "        vertical-align: middle;\n",
       "    }\n",
       "\n",
       "    .dataframe tbody tr th {\n",
       "        vertical-align: top;\n",
       "    }\n",
       "\n",
       "    .dataframe thead th {\n",
       "        text-align: right;\n",
       "    }\n",
       "</style>\n",
       "<table border=\"1\" class=\"dataframe\">\n",
       "  <thead>\n",
       "    <tr style=\"text-align: right;\">\n",
       "      <th></th>\n",
       "      <th>Count</th>\n",
       "    </tr>\n",
       "    <tr>\n",
       "      <th>Class Name</th>\n",
       "      <th></th>\n",
       "    </tr>\n",
       "  </thead>\n",
       "  <tbody>\n",
       "    <tr>\n",
       "      <th>Metal</th>\n",
       "      <td>300</td>\n",
       "    </tr>\n",
       "    <tr>\n",
       "      <th>Paper-Carton</th>\n",
       "      <td>551</td>\n",
       "    </tr>\n",
       "    <tr>\n",
       "      <th>Plastic</th>\n",
       "      <td>331</td>\n",
       "    </tr>\n",
       "  </tbody>\n",
       "</table>\n",
       "</div>"
      ],
      "text/plain": [
       "              Count\n",
       "Class Name         \n",
       "Metal           300\n",
       "Paper-Carton    551\n",
       "Plastic         331"
      ]
     },
     "metadata": {},
     "output_type": "display_data"
    },
    {
     "name": "stdout",
     "output_type": "stream",
     "text": [
      "Class Density (Average and Median Instances per Image):\n"
     ]
    },
    {
     "data": {
      "text/html": [
       "<div>\n",
       "<style scoped>\n",
       "    .dataframe tbody tr th:only-of-type {\n",
       "        vertical-align: middle;\n",
       "    }\n",
       "\n",
       "    .dataframe tbody tr th {\n",
       "        vertical-align: top;\n",
       "    }\n",
       "\n",
       "    .dataframe thead th {\n",
       "        text-align: right;\n",
       "    }\n",
       "</style>\n",
       "<table border=\"1\" class=\"dataframe\">\n",
       "  <thead>\n",
       "    <tr style=\"text-align: right;\">\n",
       "      <th></th>\n",
       "      <th>Average Instances</th>\n",
       "      <th>Median Instances</th>\n",
       "    </tr>\n",
       "  </thead>\n",
       "  <tbody>\n",
       "    <tr>\n",
       "      <th>Paper-Carton</th>\n",
       "      <td>1.097267</td>\n",
       "      <td>1545.5</td>\n",
       "    </tr>\n",
       "    <tr>\n",
       "      <th>Metal</th>\n",
       "      <td>0.674121</td>\n",
       "      <td>949.5</td>\n",
       "    </tr>\n",
       "    <tr>\n",
       "      <th>Plastic</th>\n",
       "      <td>0.715300</td>\n",
       "      <td>1007.5</td>\n",
       "    </tr>\n",
       "  </tbody>\n",
       "</table>\n",
       "</div>"
      ],
      "text/plain": [
       "              Average Instances  Median Instances\n",
       "Paper-Carton           1.097267            1545.5\n",
       "Metal                  0.674121             949.5\n",
       "Plastic                0.715300            1007.5"
      ]
     },
     "metadata": {},
     "output_type": "display_data"
    },
    {
     "data": {
      "text/plain": [
       "<Figure size 1000x600 with 0 Axes>"
      ]
     },
     "metadata": {},
     "output_type": "display_data"
    }
   ],
   "source": [
    "dataset_path = 'DataSet/Yolo'\n",
    "output_path = 'DataAnalysis'\n",
    "os.makedirs(output_path, exist_ok=True) \n",
    "\n",
    "with open(os.path.join(dataset_path, 'data.yaml'), 'r') as file:\n",
    "    data = yaml.safe_load(file)\n",
    "classes = data['names']\n",
    "\n",
    "image_counts = {'train': 0, 'test': 0, 'valid': 0}\n",
    "label_counter = Counter()\n",
    "split_class_counts = {'train': Counter(), 'test': Counter(), 'valid': Counter()}\n",
    "\n",
    "splits = ['train', 'test', 'valid']\n",
    "\n",
    "for split in splits:\n",
    "    annotations_path = os.path.join(dataset_path, split, 'labels')\n",
    "    if os.path.exists(annotations_path):\n",
    "        for filename in os.listdir(annotations_path):\n",
    "            if filename.endswith('.txt'):\n",
    "                image_counts[split] += 1  \n",
    "                with open(os.path.join(annotations_path, filename), 'r') as file:\n",
    "                    for line in file:\n",
    "                        class_id = int(line.split()[0])\n",
    "                        label_counter[class_id] += 1\n",
    "                        split_class_counts[split][class_id] += 1\n",
    "\n",
    "total_images_df = pd.DataFrame(list(image_counts.items()), columns=['Split', 'Image Count'])\n",
    "labels_df = pd.DataFrame.from_dict(label_counter, orient='index', columns=['Count'])\n",
    "labels_df.index = labels_df.index.map(lambda x: classes[x])\n",
    "\n",
    "\n",
    "total_images_df.to_csv(os.path.join(output_path, 'total_images_by_split.csv'))\n",
    "plt.figure(figsize=(8, 5))\n",
    "plt.bar(total_images_df['Split'], total_images_df['Image Count'], color='lightcoral')\n",
    "plt.title('Total Number of Images by Split')\n",
    "plt.ylabel('Image Count')\n",
    "plt.savefig(os.path.join(output_path, 'total_images_by_split.png'))\n",
    "plt.close()  \n",
    "\n",
    "print(\"Total Image Count by Split:\")\n",
    "display(total_images_df)\n",
    "\n",
    "\n",
    "labels_df.to_csv(os.path.join(output_path, 'class_distribution_all_splits.csv'))\n",
    "plt.figure(figsize=(10, 6))\n",
    "labels_df.sort_values(by='Count', ascending=False).plot(kind='bar', legend=False, color='skyblue')\n",
    "plt.title('Class Distribution Across All Splits')\n",
    "plt.xlabel('Class')\n",
    "plt.ylabel('Count')\n",
    "plt.xticks(rotation=45)\n",
    "plt.savefig(os.path.join(output_path, 'class_distribution_all_splits.png'))\n",
    "plt.close()\n",
    "\n",
    "print(\"Class Distribution Across All Splits:\")\n",
    "display(labels_df)\n",
    "\n",
    "for split, df in split_class_dfs.items():\n",
    "    df.to_csv(os.path.join(output_path, f'class_distribution_{split}.csv'))\n",
    "    \n",
    "    plt.figure(figsize=(10, 6))\n",
    "    df['Count'].plot(kind='bar', color='orange', legend=False)\n",
    "    plt.title(f'Class Distribution in {split.capitalize()} Split')\n",
    "    plt.xlabel('Class')\n",
    "    plt.ylabel('Count')\n",
    "    plt.xticks(rotation=45)\n",
    "    plt.savefig(os.path.join(output_path, f'class_distribution_{split}.png'))\n",
    "    plt.close()\n",
    "    print(f\"Class Distribution in {split.capitalize()} Split:\")\n",
    "    display(df[['Count']])\n",
    "\n",
    "class_density = {}\n",
    "for class_id, count in label_counter.items():\n",
    "    class_name = classes[class_id]\n",
    "    avg_instances = count / image_counts['train']\n",
    "    class_density[class_name] = {\n",
    "        'Average Instances': avg_instances,\n",
    "        'Median Instances': count / 2  \n",
    "}\n",
    "\n",
    "\n",
    "class_density_df = pd.DataFrame.from_dict(class_density, orient='index')\n",
    "class_density_df.to_csv(os.path.join(output_path, 'class_density.csv'))\n",
    "\n",
    "\n",
    "print(\"Class Density (Average and Median Instances per Image):\")\n",
    "display(class_density_df)\n",
    "\n",
    "\n",
    "plt.figure(figsize=(12, 6))\n",
    "\n",
    "\n",
    "plt.hist(class_density_df['Average Instances'], bins=10, color='green', alpha=0.5, label='Average Instances')\n",
    "\n",
    "\n",
    "plt.hist(class_density_df['Median Instances'], bins=10, color='purple', alpha=0.5, label='Median Instances')\n",
    "\n",
    "plt.title('Histogram of Average and Median Instances per Class')\n",
    "plt.xlabel('Instances per Image')\n",
    "plt.ylabel('Frequency')\n",
    "plt.legend()\n",
    "plt.savefig(os.path.join(output_path, 'histogram_average_median_instances.png'))\n",
    "plt.close()\n"
   ]
  },
  {
   "cell_type": "markdown",
   "metadata": {},
   "source": [
    "### Model Training"
   ]
  },
  {
   "cell_type": "code",
   "execution_count": 3,
   "metadata": {},
   "outputs": [],
   "source": [
    "model = YOLO(\"yolov8n-seg.pt\")"
   ]
  },
  {
   "cell_type": "code",
   "execution_count": null,
   "metadata": {},
   "outputs": [
    {
     "name": "stdout",
     "output_type": "stream",
     "text": [
      "New https://pypi.org/project/ultralytics/8.3.27 available  Update with 'pip install -U ultralytics'\n",
      "Ultralytics 8.3.26  Python-3.10.10 torch-2.0.1+cu118 CPU (AMD Ryzen 9 5900X 12-Core Processor)\n",
      "\u001b[34m\u001b[1mengine\\trainer: \u001b[0mtask=segment, mode=train, model=yolov8n-seg.pt, data=Data/data.yaml, epochs=100, time=None, patience=7, batch=16, imgsz=640, save=True, save_period=-1, cache=False, device=cpu, workers=8, project=None, name=train2, exist_ok=False, pretrained=True, optimizer=auto, verbose=True, seed=0, deterministic=True, single_cls=False, rect=False, cos_lr=False, close_mosaic=10, resume=False, amp=True, fraction=1.0, profile=False, freeze=None, multi_scale=False, overlap_mask=True, mask_ratio=4, dropout=0.0, val=True, split=val, save_json=False, save_hybrid=False, conf=None, iou=0.7, max_det=300, half=False, dnn=False, plots=True, source=None, vid_stride=1, stream_buffer=False, visualize=False, augment=False, agnostic_nms=False, classes=None, retina_masks=False, embed=None, show=False, save_frames=False, save_txt=False, save_conf=False, save_crop=False, show_labels=True, show_conf=True, show_boxes=True, line_width=None, format=torchscript, keras=False, optimize=False, int8=False, dynamic=False, simplify=True, opset=None, workspace=4, nms=False, lr0=0.01, lrf=0.01, momentum=0.937, weight_decay=0.0005, warmup_epochs=3.0, warmup_momentum=0.8, warmup_bias_lr=0.1, box=7.5, cls=0.5, dfl=1.5, pose=12.0, kobj=1.0, label_smoothing=0.0, nbs=64, hsv_h=0.015, hsv_s=0.7, hsv_v=0.4, degrees=0.0, translate=0.1, scale=0.5, shear=0.0, perspective=0.0, flipud=0.0, fliplr=0.5, bgr=0.0, mosaic=1.0, mixup=0.0, copy_paste=0.0, copy_paste_mode=flip, auto_augment=randaugment, erasing=0.4, crop_fraction=1.0, cfg=None, tracker=botsort.yaml, save_dir=runs\\segment\\train2\n",
      "Overriding model.yaml nc=80 with nc=3\n",
      "\n",
      "                   from  n    params  module                                       arguments                     \n",
      "  0                  -1  1       464  ultralytics.nn.modules.conv.Conv             [3, 16, 3, 2]                 \n",
      "  1                  -1  1      4672  ultralytics.nn.modules.conv.Conv             [16, 32, 3, 2]                \n",
      "  2                  -1  1      7360  ultralytics.nn.modules.block.C2f             [32, 32, 1, True]             \n",
      "  3                  -1  1     18560  ultralytics.nn.modules.conv.Conv             [32, 64, 3, 2]                \n",
      "  4                  -1  2     49664  ultralytics.nn.modules.block.C2f             [64, 64, 2, True]             \n",
      "  5                  -1  1     73984  ultralytics.nn.modules.conv.Conv             [64, 128, 3, 2]               \n",
      "  6                  -1  2    197632  ultralytics.nn.modules.block.C2f             [128, 128, 2, True]           \n",
      "  7                  -1  1    295424  ultralytics.nn.modules.conv.Conv             [128, 256, 3, 2]              \n",
      "  8                  -1  1    460288  ultralytics.nn.modules.block.C2f             [256, 256, 1, True]           \n",
      "  9                  -1  1    164608  ultralytics.nn.modules.block.SPPF            [256, 256, 5]                 \n",
      " 10                  -1  1         0  torch.nn.modules.upsampling.Upsample         [None, 2, 'nearest']          \n",
      " 11             [-1, 6]  1         0  ultralytics.nn.modules.conv.Concat           [1]                           \n",
      " 12                  -1  1    148224  ultralytics.nn.modules.block.C2f             [384, 128, 1]                 \n",
      " 13                  -1  1         0  torch.nn.modules.upsampling.Upsample         [None, 2, 'nearest']          \n",
      " 14             [-1, 4]  1         0  ultralytics.nn.modules.conv.Concat           [1]                           \n",
      " 15                  -1  1     37248  ultralytics.nn.modules.block.C2f             [192, 64, 1]                  \n",
      " 16                  -1  1     36992  ultralytics.nn.modules.conv.Conv             [64, 64, 3, 2]                \n",
      " 17            [-1, 12]  1         0  ultralytics.nn.modules.conv.Concat           [1]                           \n",
      " 18                  -1  1    123648  ultralytics.nn.modules.block.C2f             [192, 128, 1]                 \n",
      " 19                  -1  1    147712  ultralytics.nn.modules.conv.Conv             [128, 128, 3, 2]              \n",
      " 20             [-1, 9]  1         0  ultralytics.nn.modules.conv.Concat           [1]                           \n",
      " 21                  -1  1    493056  ultralytics.nn.modules.block.C2f             [384, 256, 1]                 \n",
      " 22        [15, 18, 21]  1   1004665  ultralytics.nn.modules.head.Segment          [3, 32, 64, [64, 128, 256]]   \n",
      "YOLOv8n-seg summary: 261 layers, 3,264,201 parameters, 3,264,185 gradients, 12.1 GFLOPs\n",
      "\n",
      "Transferred 381/417 items from pretrained weights\n",
      "\u001b[34m\u001b[1mTensorBoard: \u001b[0mStart with 'tensorboard --logdir runs\\segment\\train2', view at http://localhost:6006/\n",
      "Freezing layer 'model.22.dfl.conv.weight'\n"
     ]
    },
    {
     "name": "stderr",
     "output_type": "stream",
     "text": [
      "\u001b[34m\u001b[1mtrain: \u001b[0mScanning D:\\ThesisFinal\\Data\\train\\labels.cache... 2817 images, 82 backgrounds, 103 corrupt: 100%|██████████| 2817/2817 [00:00<?, ?it/s]"
     ]
    },
    {
     "name": "stdout",
     "output_type": "stream",
     "text": [
      "\u001b[34m\u001b[1mtrain: \u001b[0mWARNING  D:\\ThesisFinal\\Data\\train\\images\\1.rf.afc854937d0249b9a9c3a90160ef9999.jpg: ignoring corrupt image/label: non-normalized or out of bounds coordinates [     1.0431]\n",
      "\u001b[34m\u001b[1mtrain: \u001b[0mWARNING  D:\\ThesisFinal\\Data\\train\\images\\1007_jpg.rf.19ff1bb1e1bb218d9f7da27c7d2b4f53.jpg: ignoring corrupt image/label: non-normalized or out of bounds coordinates [      1.029       1.044]\n",
      "\u001b[34m\u001b[1mtrain: \u001b[0mWARNING  D:\\ThesisFinal\\Data\\train\\images\\1017_jpg.rf.14ade57a347aa58705c14450e4139b65.jpg: ignoring corrupt image/label: non-normalized or out of bounds coordinates [     1.0009]\n",
      "\u001b[34m\u001b[1mtrain: \u001b[0mWARNING  D:\\ThesisFinal\\Data\\train\\images\\1031_jpg.rf.4ddb38fd373fb4b4b18c9e118bdac747.jpg: ignoring corrupt image/label: non-normalized or out of bounds coordinates [     1.0104]\n",
      "\u001b[34m\u001b[1mtrain: \u001b[0mWARNING  D:\\ThesisFinal\\Data\\train\\images\\1032_jpg.rf.f8b4a81e4f250eaeaa045a65dc0a0cb4.jpg: ignoring corrupt image/label: non-normalized or out of bounds coordinates [     1.0465      1.0351]\n",
      "\u001b[34m\u001b[1mtrain: \u001b[0mWARNING  D:\\ThesisFinal\\Data\\train\\images\\1074_jpg.rf.847166d486678d9cd57fd494edfe12d2.jpg: ignoring corrupt image/label: non-normalized or out of bounds coordinates [     1.0089      1.1257]\n",
      "\u001b[34m\u001b[1mtrain: \u001b[0mWARNING  D:\\ThesisFinal\\Data\\train\\images\\1075_jpg.rf.b86262abbc6a37022729f139e3446cd9.jpg: ignoring corrupt image/label: non-normalized or out of bounds coordinates [     1.0777]\n",
      "\u001b[34m\u001b[1mtrain: \u001b[0mWARNING  D:\\ThesisFinal\\Data\\train\\images\\108_png.rf.21c854314498cd3a9a0b1c7997651610.jpg: ignoring corrupt image/label: non-normalized or out of bounds coordinates [     1.0168]\n",
      "\u001b[34m\u001b[1mtrain: \u001b[0mWARNING  D:\\ThesisFinal\\Data\\train\\images\\1131_jpg.rf.35c8b4c1bcfa3da6ede514d6b5e1fe3f.jpg: ignoring corrupt image/label: non-normalized or out of bounds coordinates [      1.045]\n",
      "\u001b[34m\u001b[1mtrain: \u001b[0mWARNING  D:\\ThesisFinal\\Data\\train\\images\\1141_jpg.rf.f908721018c3d1574d6cd44ee1c46ec5.jpg: ignoring corrupt image/label: non-normalized or out of bounds coordinates [     1.0059]\n",
      "\u001b[34m\u001b[1mtrain: \u001b[0mWARNING  D:\\ThesisFinal\\Data\\train\\images\\123_png.rf.88e36142313a52ce6ca8c36fb281e9f6.jpg: ignoring corrupt image/label: non-normalized or out of bounds coordinates [      1.065]\n",
      "\u001b[34m\u001b[1mtrain: \u001b[0mWARNING  D:\\ThesisFinal\\Data\\train\\images\\1270_jpg.rf.e781d3a03e1e507555472879e7dd3003.jpg: ignoring corrupt image/label: non-normalized or out of bounds coordinates [     1.0111]\n",
      "\u001b[34m\u001b[1mtrain: \u001b[0mWARNING  D:\\ThesisFinal\\Data\\train\\images\\1327_jpg.rf.3d8aeeed1527c577855066947dc006b0.jpg: ignoring corrupt image/label: non-normalized or out of bounds coordinates [     1.0447      1.0974]\n",
      "\u001b[34m\u001b[1mtrain: \u001b[0mWARNING  D:\\ThesisFinal\\Data\\train\\images\\1361_jpg.rf.869f6346a00fbb6b799a122776854862.jpg: ignoring corrupt image/label: non-normalized or out of bounds coordinates [     1.0579]\n",
      "\u001b[34m\u001b[1mtrain: \u001b[0mWARNING  D:\\ThesisFinal\\Data\\train\\images\\1367_jpg.rf.a8c02f9047aa3787d3f74987c1e5a86a.jpg: ignoring corrupt image/label: non-normalized or out of bounds coordinates [     1.0394]\n",
      "\u001b[34m\u001b[1mtrain: \u001b[0mWARNING  D:\\ThesisFinal\\Data\\train\\images\\1391_jpg.rf.1cf830d1d3cbdd034637708700719c34.jpg: ignoring corrupt image/label: non-normalized or out of bounds coordinates [      1.218      1.1357]\n",
      "\u001b[34m\u001b[1mtrain: \u001b[0mWARNING  D:\\ThesisFinal\\Data\\train\\images\\1400_jpg.rf.ce5997d41547a209d1ac722bca184600.jpg: ignoring corrupt image/label: non-normalized or out of bounds coordinates [     1.0833]\n",
      "\u001b[34m\u001b[1mtrain: \u001b[0mWARNING  D:\\ThesisFinal\\Data\\train\\images\\1400_jpg.rf.f29307a151e001f39aa2663a3eb0e85b.jpg: ignoring corrupt image/label: non-normalized or out of bounds coordinates [     1.0833]\n",
      "\u001b[34m\u001b[1mtrain: \u001b[0mWARNING  D:\\ThesisFinal\\Data\\train\\images\\1405_jpg.rf.eb978c1e4ca58595646db6b8b9f9dbe2.jpg: 1 duplicate labels removed\n",
      "\u001b[34m\u001b[1mtrain: \u001b[0mWARNING  D:\\ThesisFinal\\Data\\train\\images\\140_png.rf.43842b6f01a7e249023bc4f4e7c17e43.jpg: ignoring corrupt image/label: non-normalized or out of bounds coordinates [     1.0045]\n",
      "\u001b[34m\u001b[1mtrain: \u001b[0mWARNING  D:\\ThesisFinal\\Data\\train\\images\\1475_jpg.rf.0d20b8dac196ee448f59e7afbd3becd3.jpg: 1 duplicate labels removed\n",
      "\u001b[34m\u001b[1mtrain: \u001b[0mWARNING  D:\\ThesisFinal\\Data\\train\\images\\1521_jpg.rf.5fc1d6d42b11597100c558a8a05dd4f3.jpg: ignoring corrupt image/label: non-normalized or out of bounds coordinates [      1.101]\n",
      "\u001b[34m\u001b[1mtrain: \u001b[0mWARNING  D:\\ThesisFinal\\Data\\train\\images\\154_png.rf.957b6f644bccab32fb8b05d3dd367271.jpg: ignoring corrupt image/label: non-normalized or out of bounds coordinates [     1.1565      1.0757]\n",
      "\u001b[34m\u001b[1mtrain: \u001b[0mWARNING  D:\\ThesisFinal\\Data\\train\\images\\1618_jpg.rf.f77320118489d5289271a7e27b457469.jpg: ignoring corrupt image/label: non-normalized or out of bounds coordinates [     1.0243]\n",
      "\u001b[34m\u001b[1mtrain: \u001b[0mWARNING  D:\\ThesisFinal\\Data\\train\\images\\1688_jpg.rf.61b4b746f2fbbb13638084017ed3e097.jpg: ignoring corrupt image/label: non-normalized or out of bounds coordinates [     1.0147]\n",
      "\u001b[34m\u001b[1mtrain: \u001b[0mWARNING  D:\\ThesisFinal\\Data\\train\\images\\1739_jpg.rf.501bbac2c1433544bd27841fb6cb91c3.jpg: ignoring corrupt image/label: non-normalized or out of bounds coordinates [     1.0528]\n",
      "\u001b[34m\u001b[1mtrain: \u001b[0mWARNING  D:\\ThesisFinal\\Data\\train\\images\\1794_jpg.rf.73c1dd036ed012a5165b7a0c063c541f.jpg: ignoring corrupt image/label: non-normalized or out of bounds coordinates [     1.1029      1.0376]\n",
      "\u001b[34m\u001b[1mtrain: \u001b[0mWARNING  D:\\ThesisFinal\\Data\\train\\images\\17_png.rf.0f54ff9918c110bc7856f108a163247e.jpg: ignoring corrupt image/label: non-normalized or out of bounds coordinates [     1.0088]\n",
      "\u001b[34m\u001b[1mtrain: \u001b[0mWARNING  D:\\ThesisFinal\\Data\\train\\images\\17_png.rf.cd11b70258083a4ee2742c521148866c.jpg: ignoring corrupt image/label: non-normalized or out of bounds coordinates [     1.0088]\n",
      "\u001b[34m\u001b[1mtrain: \u001b[0mWARNING  D:\\ThesisFinal\\Data\\train\\images\\1800_jpg.rf.70190bb2bc5512cd342cba306bc78aba.jpg: ignoring corrupt image/label: non-normalized or out of bounds coordinates [     1.0016]\n",
      "\u001b[34m\u001b[1mtrain: \u001b[0mWARNING  D:\\ThesisFinal\\Data\\train\\images\\1800_jpg.rf.b58f98bfb53ce105cce4af2fb7bae146.jpg: ignoring corrupt image/label: non-normalized or out of bounds coordinates [     1.0016]\n",
      "\u001b[34m\u001b[1mtrain: \u001b[0mWARNING  D:\\ThesisFinal\\Data\\train\\images\\1801_jpg.rf.6a6eccfc601c07d117c5e151afb7977a.jpg: ignoring corrupt image/label: non-normalized or out of bounds coordinates [     1.2546]\n",
      "\u001b[34m\u001b[1mtrain: \u001b[0mWARNING  D:\\ThesisFinal\\Data\\train\\images\\1801_jpg.rf.a0242f4b886adb3166ecc811b3334ae0.jpg: ignoring corrupt image/label: non-normalized or out of bounds coordinates [     1.2546]\n",
      "\u001b[34m\u001b[1mtrain: \u001b[0mWARNING  D:\\ThesisFinal\\Data\\train\\images\\1825_jpg.rf.3535f5a22f2f8ba3cd83fcfaa8f8fefd.jpg: ignoring corrupt image/label: non-normalized or out of bounds coordinates [     1.0465]\n",
      "\u001b[34m\u001b[1mtrain: \u001b[0mWARNING  D:\\ThesisFinal\\Data\\train\\images\\189_png.rf.0fd6229e4a412190f700ebae48d8e105.jpg: ignoring corrupt image/label: non-normalized or out of bounds coordinates [     1.0663]\n",
      "\u001b[34m\u001b[1mtrain: \u001b[0mWARNING  D:\\ThesisFinal\\Data\\train\\images\\189_png.rf.fb3c456bf18434b928348e4397df1e0c.jpg: ignoring corrupt image/label: non-normalized or out of bounds coordinates [     1.0663]\n",
      "\u001b[34m\u001b[1mtrain: \u001b[0mWARNING  D:\\ThesisFinal\\Data\\train\\images\\1923_jpg.rf.b053fa5ea831e4aed0967c1737929500.jpg: ignoring corrupt image/label: non-normalized or out of bounds coordinates [     1.0393]\n",
      "\u001b[34m\u001b[1mtrain: \u001b[0mWARNING  D:\\ThesisFinal\\Data\\train\\images\\1923_jpg.rf.dc1e3270807e9ad79004699ff8fbfbd4.jpg: ignoring corrupt image/label: non-normalized or out of bounds coordinates [     1.0393]\n",
      "\u001b[34m\u001b[1mtrain: \u001b[0mWARNING  D:\\ThesisFinal\\Data\\train\\images\\192_png.rf.1a3a04cbf7e901809029951603682225.jpg: ignoring corrupt image/label: non-normalized or out of bounds coordinates [     1.0333]\n",
      "\u001b[34m\u001b[1mtrain: \u001b[0mWARNING  D:\\ThesisFinal\\Data\\train\\images\\198_png.rf.18f24c5030e16a3a32af24a653118a68.jpg: ignoring corrupt image/label: non-normalized or out of bounds coordinates [      1.076]\n",
      "\u001b[34m\u001b[1mtrain: \u001b[0mWARNING  D:\\ThesisFinal\\Data\\train\\images\\1998_jpg.rf.f82aaf7ce07dbd94be04c9b12d5697fc.jpg: ignoring corrupt image/label: non-normalized or out of bounds coordinates [     1.0945]\n",
      "\u001b[34m\u001b[1mtrain: \u001b[0mWARNING  D:\\ThesisFinal\\Data\\train\\images\\1998_jpg.rf.fa2f95a056eaf9d424d731400d12f466.jpg: ignoring corrupt image/label: non-normalized or out of bounds coordinates [     1.0945]\n",
      "\u001b[34m\u001b[1mtrain: \u001b[0mWARNING  D:\\ThesisFinal\\Data\\train\\images\\1999_jpg.rf.afc7e19bd1f3b34b1f31d7635d39aaa9.jpg: ignoring corrupt image/label: non-normalized or out of bounds coordinates [     1.0494]\n",
      "\u001b[34m\u001b[1mtrain: \u001b[0mWARNING  D:\\ThesisFinal\\Data\\train\\images\\2000_jpg.rf.cd9a0562da188556c4a603dea5336a06.jpg: ignoring corrupt image/label: non-normalized or out of bounds coordinates [     1.0926]\n",
      "\u001b[34m\u001b[1mtrain: \u001b[0mWARNING  D:\\ThesisFinal\\Data\\train\\images\\200_png.rf.01b9e83f1625d6035db6f6714332c493.jpg: ignoring corrupt image/label: non-normalized or out of bounds coordinates [     1.0297]\n",
      "\u001b[34m\u001b[1mtrain: \u001b[0mWARNING  D:\\ThesisFinal\\Data\\train\\images\\200_png.rf.70dfd8256e26a12041d9fe8770fe22bc.jpg: ignoring corrupt image/label: non-normalized or out of bounds coordinates [     1.0297]\n",
      "\u001b[34m\u001b[1mtrain: \u001b[0mWARNING  D:\\ThesisFinal\\Data\\train\\images\\202_png.rf.92f9fb2029abf93fc3930119999e560c.jpg: ignoring corrupt image/label: non-normalized or out of bounds coordinates [     1.1713      1.2744]\n",
      "\u001b[34m\u001b[1mtrain: \u001b[0mWARNING  D:\\ThesisFinal\\Data\\train\\images\\204_png.rf.81178a7698aa1e6485aa83806d44a909.jpg: ignoring corrupt image/label: non-normalized or out of bounds coordinates [     1.0066]\n",
      "\u001b[34m\u001b[1mtrain: \u001b[0mWARNING  D:\\ThesisFinal\\Data\\train\\images\\208_png.rf.3b5d54ddda94a6df77fae2b1509a98dd.jpg: ignoring corrupt image/label: non-normalized or out of bounds coordinates [     1.0844]\n",
      "\u001b[34m\u001b[1mtrain: \u001b[0mWARNING  D:\\ThesisFinal\\Data\\train\\images\\212_png.rf.326bb41df10c06b4e158f427fafef407.jpg: ignoring corrupt image/label: non-normalized or out of bounds coordinates [     1.0179]\n",
      "\u001b[34m\u001b[1mtrain: \u001b[0mWARNING  D:\\ThesisFinal\\Data\\train\\images\\228_png.rf.cf221370607d7b5861748a716e20cd31.jpg: ignoring corrupt image/label: non-normalized or out of bounds coordinates [     1.0114]\n",
      "\u001b[34m\u001b[1mtrain: \u001b[0mWARNING  D:\\ThesisFinal\\Data\\train\\images\\235_png.rf.7fb85d0d77c4e0f909c690e54799e04e.jpg: ignoring corrupt image/label: non-normalized or out of bounds coordinates [     1.2314      1.0903]\n",
      "\u001b[34m\u001b[1mtrain: \u001b[0mWARNING  D:\\ThesisFinal\\Data\\train\\images\\240_png.rf.1f487cd0a6ebb83b7e35be06ad9cc55d.jpg: ignoring corrupt image/label: non-normalized or out of bounds coordinates [      1.053      1.0766]\n",
      "\u001b[34m\u001b[1mtrain: \u001b[0mWARNING  D:\\ThesisFinal\\Data\\train\\images\\240_png.rf.926dab6a871b81bc4d30393375bfc253.jpg: ignoring corrupt image/label: non-normalized or out of bounds coordinates [      1.053      1.0766]\n",
      "\u001b[34m\u001b[1mtrain: \u001b[0mWARNING  D:\\ThesisFinal\\Data\\train\\images\\252_png.rf.84b3fdd3dd8472af38424978700bdd92.jpg: ignoring corrupt image/label: non-normalized or out of bounds coordinates [     1.0332]\n",
      "\u001b[34m\u001b[1mtrain: \u001b[0mWARNING  D:\\ThesisFinal\\Data\\train\\images\\255_png.rf.4f79014fc7010de95f0e52100532ccc0.jpg: ignoring corrupt image/label: non-normalized or out of bounds coordinates [     1.2772      1.2725]\n",
      "\u001b[34m\u001b[1mtrain: \u001b[0mWARNING  D:\\ThesisFinal\\Data\\train\\images\\2805_png.rf.eee8b7f052566af4ef769b1a3f8f077f.jpg: ignoring corrupt image/label: non-normalized or out of bounds coordinates [      1.025]\n",
      "\u001b[34m\u001b[1mtrain: \u001b[0mWARNING  D:\\ThesisFinal\\Data\\train\\images\\314_png.rf.85c2378c81bb5b02535ef1ecb0c7ab32.jpg: ignoring corrupt image/label: non-normalized or out of bounds coordinates [      1.102       1.084]\n",
      "\u001b[34m\u001b[1mtrain: \u001b[0mWARNING  D:\\ThesisFinal\\Data\\train\\images\\314_png.rf.fea71053a79805955beaf68cd575eb48.jpg: ignoring corrupt image/label: non-normalized or out of bounds coordinates [      1.102       1.084]\n",
      "\u001b[34m\u001b[1mtrain: \u001b[0mWARNING  D:\\ThesisFinal\\Data\\train\\images\\342_png.rf.e3f5e026832ba560ca7bd7c2bdea81aa.jpg: ignoring corrupt image/label: non-normalized or out of bounds coordinates [     1.1316]\n",
      "\u001b[34m\u001b[1mtrain: \u001b[0mWARNING  D:\\ThesisFinal\\Data\\train\\images\\346_png.rf.7cae69c01c7e8150e2973d190aedbebe.jpg: ignoring corrupt image/label: non-normalized or out of bounds coordinates [     1.2426      1.2592]\n",
      "\u001b[34m\u001b[1mtrain: \u001b[0mWARNING  D:\\ThesisFinal\\Data\\train\\images\\365_png.rf.ab04a8ef611e209ec2cfe23f1d93ea33.jpg: ignoring corrupt image/label: non-normalized or out of bounds coordinates [     1.1167       1.096]\n",
      "\u001b[34m\u001b[1mtrain: \u001b[0mWARNING  D:\\ThesisFinal\\Data\\train\\images\\365_png.rf.de497fd15be8a90de3e1325e58391b3c.jpg: ignoring corrupt image/label: non-normalized or out of bounds coordinates [     1.1167       1.096]\n",
      "\u001b[34m\u001b[1mtrain: \u001b[0mWARNING  D:\\ThesisFinal\\Data\\train\\images\\378_png.rf.6fd4613932772933efb276f6de84523d.jpg: ignoring corrupt image/label: non-normalized or out of bounds coordinates [      1.008]\n",
      "\u001b[34m\u001b[1mtrain: \u001b[0mWARNING  D:\\ThesisFinal\\Data\\train\\images\\378_png.rf.bf7f328fa351fc7a44d22d21d0379de7.jpg: ignoring corrupt image/label: non-normalized or out of bounds coordinates [      1.008]\n",
      "\u001b[34m\u001b[1mtrain: \u001b[0mWARNING  D:\\ThesisFinal\\Data\\train\\images\\434_png.rf.edd1acb6db3e482e0ed6d79de8ce805e.jpg: ignoring corrupt image/label: non-normalized or out of bounds coordinates [     1.0009]\n",
      "\u001b[34m\u001b[1mtrain: \u001b[0mWARNING  D:\\ThesisFinal\\Data\\train\\images\\48_jpg.rf.2dbf3e4b7d7b5bcd4a1e85137a4ab36f.jpg: ignoring corrupt image/label: non-normalized or out of bounds coordinates [     1.0672]\n",
      "\u001b[34m\u001b[1mtrain: \u001b[0mWARNING  D:\\ThesisFinal\\Data\\train\\images\\48_jpg.rf.e88ec934f894ca53f23d535e22b0f9ee.jpg: ignoring corrupt image/label: non-normalized or out of bounds coordinates [     1.0672]\n",
      "\u001b[34m\u001b[1mtrain: \u001b[0mWARNING  D:\\ThesisFinal\\Data\\train\\images\\490_png.rf.5240a77eb1801acac14a412699e01198.jpg: ignoring corrupt image/label: non-normalized or out of bounds coordinates [     1.0093]\n",
      "\u001b[34m\u001b[1mtrain: \u001b[0mWARNING  D:\\ThesisFinal\\Data\\train\\images\\496_png.rf.adfb5978bc7c7a6050929152d75287f8.jpg: ignoring corrupt image/label: non-normalized or out of bounds coordinates [     1.1051]\n",
      "\u001b[34m\u001b[1mtrain: \u001b[0mWARNING  D:\\ThesisFinal\\Data\\train\\images\\502_png.rf.a0e2b83a8ea1795cfa60b75df5a4b1a4.jpg: ignoring corrupt image/label: non-normalized or out of bounds coordinates [      1.004]\n",
      "\u001b[34m\u001b[1mtrain: \u001b[0mWARNING  D:\\ThesisFinal\\Data\\train\\images\\553_png.rf.4b4c3bbc3c9d09bcb9544b5d92deeeec.jpg: ignoring corrupt image/label: non-normalized or out of bounds coordinates [     1.0549]\n",
      "\u001b[34m\u001b[1mtrain: \u001b[0mWARNING  D:\\ThesisFinal\\Data\\train\\images\\553_png.rf.efa4513d3905492708610f3198a9805c.jpg: ignoring corrupt image/label: non-normalized or out of bounds coordinates [     1.0549]\n",
      "\u001b[34m\u001b[1mtrain: \u001b[0mWARNING  D:\\ThesisFinal\\Data\\train\\images\\585_png.rf.01967deda8797795dca8485797599662.jpg: ignoring corrupt image/label: non-normalized or out of bounds coordinates [     1.0399]\n",
      "\u001b[34m\u001b[1mtrain: \u001b[0mWARNING  D:\\ThesisFinal\\Data\\train\\images\\591_png.rf.3d203254d06f4190bd12c1bc17f61c5d.jpg: ignoring corrupt image/label: non-normalized or out of bounds coordinates [     1.0229]\n",
      "\u001b[34m\u001b[1mtrain: \u001b[0mWARNING  D:\\ThesisFinal\\Data\\train\\images\\591_png.rf.c2f01eb5555c722e213d970ff3b38bd7.jpg: ignoring corrupt image/label: non-normalized or out of bounds coordinates [     1.0229]\n",
      "\u001b[34m\u001b[1mtrain: \u001b[0mWARNING  D:\\ThesisFinal\\Data\\train\\images\\612_png.rf.80acbb12bea8b638edb049820800f6b9.jpg: ignoring corrupt image/label: non-normalized or out of bounds coordinates [     1.3105      1.1947]\n",
      "\u001b[34m\u001b[1mtrain: \u001b[0mWARNING  D:\\ThesisFinal\\Data\\train\\images\\614_png.rf.16df44457c455d9216325a1212f93eb0.jpg: ignoring corrupt image/label: non-normalized or out of bounds coordinates [     1.0301]\n",
      "\u001b[34m\u001b[1mtrain: \u001b[0mWARNING  D:\\ThesisFinal\\Data\\train\\images\\629_png.rf.a5be8a868edf0d31433fde3cd499cdc1.jpg: ignoring corrupt image/label: non-normalized or out of bounds coordinates [     1.0441      1.0246]\n",
      "\u001b[34m\u001b[1mtrain: \u001b[0mWARNING  D:\\ThesisFinal\\Data\\train\\images\\636_png.rf.20ef7cce8aeb08e53b507b06f80539f4.jpg: ignoring corrupt image/label: non-normalized or out of bounds coordinates [     1.0646]\n",
      "\u001b[34m\u001b[1mtrain: \u001b[0mWARNING  D:\\ThesisFinal\\Data\\train\\images\\638_png.rf.f85cdc2b7d7e9e869e7da8344541df5b.jpg: ignoring corrupt image/label: non-normalized or out of bounds coordinates [     1.0022]\n",
      "\u001b[34m\u001b[1mtrain: \u001b[0mWARNING  D:\\ThesisFinal\\Data\\train\\images\\67_jpg.rf.e669f2c5ce22bd9cd5191d4a547d7899.jpg: ignoring corrupt image/label: non-normalized or out of bounds coordinates [      1.155      1.1207]\n",
      "\u001b[34m\u001b[1mtrain: \u001b[0mWARNING  D:\\ThesisFinal\\Data\\train\\images\\726_png.rf.630457c950acfd75082a0c5613631682.jpg: ignoring corrupt image/label: non-normalized or out of bounds coordinates [     1.1034      1.1075]\n",
      "\u001b[34m\u001b[1mtrain: \u001b[0mWARNING  D:\\ThesisFinal\\Data\\train\\images\\726_png.rf.cbba3a46bcb436426c68ff03a61116bd.jpg: ignoring corrupt image/label: non-normalized or out of bounds coordinates [     1.1034      1.1075]\n",
      "\u001b[34m\u001b[1mtrain: \u001b[0mWARNING  D:\\ThesisFinal\\Data\\train\\images\\757_png.rf.16d99fd02c79911814f6ef6d9c8731aa.jpg: ignoring corrupt image/label: non-normalized or out of bounds coordinates [     1.0064]\n",
      "\u001b[34m\u001b[1mtrain: \u001b[0mWARNING  D:\\ThesisFinal\\Data\\train\\images\\757_png.rf.f7a54ade336eba7af7a52fffee10dba3.jpg: ignoring corrupt image/label: non-normalized or out of bounds coordinates [     1.0064]\n",
      "\u001b[34m\u001b[1mtrain: \u001b[0mWARNING  D:\\ThesisFinal\\Data\\train\\images\\796_jpg.rf.5ef58fe23f9b9bdecf9fc02bf042169f.jpg: ignoring corrupt image/label: non-normalized or out of bounds coordinates [     1.0128]\n",
      "\u001b[34m\u001b[1mtrain: \u001b[0mWARNING  D:\\ThesisFinal\\Data\\train\\images\\800_jpg.rf.49d400b40e7558fabf7f97a6c8b32482.jpg: ignoring corrupt image/label: non-normalized or out of bounds coordinates [     1.0587]\n",
      "\u001b[34m\u001b[1mtrain: \u001b[0mWARNING  D:\\ThesisFinal\\Data\\train\\images\\803_jpg.rf.827cd556fcad0aff51bf500b769d2939.jpg: ignoring corrupt image/label: non-normalized or out of bounds coordinates [     1.1479]\n",
      "\u001b[34m\u001b[1mtrain: \u001b[0mWARNING  D:\\ThesisFinal\\Data\\train\\images\\803_jpg.rf.f1a4f185944afb383bb2d5124adeb3e2.jpg: ignoring corrupt image/label: non-normalized or out of bounds coordinates [     1.1479]\n",
      "\u001b[34m\u001b[1mtrain: \u001b[0mWARNING  D:\\ThesisFinal\\Data\\train\\images\\823_jpg.rf.637e5db8d099948cfbed2d52821223e7.jpg: ignoring corrupt image/label: non-normalized or out of bounds coordinates [     1.1465      1.1463]\n",
      "\u001b[34m\u001b[1mtrain: \u001b[0mWARNING  D:\\ThesisFinal\\Data\\train\\images\\835_jpg.rf.3edc6301c9970f6d86df9a8b4fc6b7ee.jpg: ignoring corrupt image/label: non-normalized or out of bounds coordinates [     1.0187]\n",
      "\u001b[34m\u001b[1mtrain: \u001b[0mWARNING  D:\\ThesisFinal\\Data\\train\\images\\855_jpg.rf.3fab034d6b9cb02d478c2ad3c15c0c8a.jpg: ignoring corrupt image/label: non-normalized or out of bounds coordinates [     1.0454]\n",
      "\u001b[34m\u001b[1mtrain: \u001b[0mWARNING  D:\\ThesisFinal\\Data\\train\\images\\860_jpg.rf.ef3616cdd131807fbcc07aee1399cf4e.jpg: ignoring corrupt image/label: non-normalized or out of bounds coordinates [     1.0624]\n",
      "\u001b[34m\u001b[1mtrain: \u001b[0mWARNING  D:\\ThesisFinal\\Data\\train\\images\\870_jpg.rf.bb29768f07c1dfb314a650ae93297b25.jpg: ignoring corrupt image/label: non-normalized or out of bounds coordinates [     1.0148]\n",
      "\u001b[34m\u001b[1mtrain: \u001b[0mWARNING  D:\\ThesisFinal\\Data\\train\\images\\882_jpg.rf.00b0e411e58ab86ca0b53b1b3e1a821a.jpg: ignoring corrupt image/label: non-normalized or out of bounds coordinates [     1.0221]\n",
      "\u001b[34m\u001b[1mtrain: \u001b[0mWARNING  D:\\ThesisFinal\\Data\\train\\images\\886_jpg.rf.8752e3a336c1d1ce00a9b7745f999972.jpg: ignoring corrupt image/label: non-normalized or out of bounds coordinates [      1.197      1.1704]\n",
      "\u001b[34m\u001b[1mtrain: \u001b[0mWARNING  D:\\ThesisFinal\\Data\\train\\images\\941_png.rf.469104828a10fc82a29ff04bb4ebc323.jpg: ignoring corrupt image/label: non-normalized or out of bounds coordinates [     1.0823      1.1412]\n",
      "\u001b[34m\u001b[1mtrain: \u001b[0mWARNING  D:\\ThesisFinal\\Data\\train\\images\\941_png.rf.866085bdc403c644bd9f00e3b1c5d045.jpg: ignoring corrupt image/label: non-normalized or out of bounds coordinates [     1.0823      1.1412]\n",
      "\u001b[34m\u001b[1mtrain: \u001b[0mWARNING  D:\\ThesisFinal\\Data\\train\\images\\951_jpg.rf.67189e01b906566908b3f81c691884d5.jpg: ignoring corrupt image/label: non-normalized or out of bounds coordinates [     1.0567]\n",
      "\u001b[34m\u001b[1mtrain: \u001b[0mWARNING  D:\\ThesisFinal\\Data\\train\\images\\953_jpg.rf.222de10e7ea8065a8291eabf4a4020e4.jpg: ignoring corrupt image/label: non-normalized or out of bounds coordinates [     1.0567]\n",
      "\u001b[34m\u001b[1mtrain: \u001b[0mWARNING  D:\\ThesisFinal\\Data\\train\\images\\953_jpg.rf.c7fead3dc881cdeff05cb0826a1edb9c.jpg: ignoring corrupt image/label: non-normalized or out of bounds coordinates [     1.0567]\n",
      "\u001b[34m\u001b[1mtrain: \u001b[0mWARNING  D:\\ThesisFinal\\Data\\train\\images\\983_jpg.rf.07b1a05b5e0df71190f8da8f1b686a09.jpg: ignoring corrupt image/label: non-normalized or out of bounds coordinates [     1.0001]\n",
      "\u001b[34m\u001b[1mtrain: \u001b[0mWARNING  D:\\ThesisFinal\\Data\\train\\images\\983_jpg.rf.0cf05a70c038b288f2d18763a3690434.jpg: ignoring corrupt image/label: non-normalized or out of bounds coordinates [     1.0001]\n",
      "\u001b[34m\u001b[1mtrain: \u001b[0mWARNING  D:\\ThesisFinal\\Data\\train\\images\\989_jpg.rf.cd0de11700b4382d827ebabcaa7c409a.jpg: ignoring corrupt image/label: non-normalized or out of bounds coordinates [      1.011]\n"
     ]
    },
    {
     "name": "stderr",
     "output_type": "stream",
     "text": [
      "\n",
      "\u001b[34m\u001b[1mval: \u001b[0mScanning D:\\ThesisFinal\\Data\\valid\\labels.cache... 621 images, 12 backgrounds, 27 corrupt: 100%|██████████| 621/621 [00:00<?, ?it/s]"
     ]
    },
    {
     "name": "stdout",
     "output_type": "stream",
     "text": [
      "\u001b[34m\u001b[1mval: \u001b[0mWARNING  D:\\ThesisFinal\\Data\\valid\\images\\1003_jpg.rf.cc4f05a2193322a8fced4be75728222e.jpg: ignoring corrupt image/label: non-normalized or out of bounds coordinates [     1.0536]\n",
      "\u001b[34m\u001b[1mval: \u001b[0mWARNING  D:\\ThesisFinal\\Data\\valid\\images\\1034_jpg.rf.ff7e5c90ba1fde7b3ece9ec69bd3223d.jpg: ignoring corrupt image/label: non-normalized or out of bounds coordinates [     1.1563      1.1165]\n",
      "\u001b[34m\u001b[1mval: \u001b[0mWARNING  D:\\ThesisFinal\\Data\\valid\\images\\1058_jpg.rf.11860a3d15493a034c4788ad4d8a2e87.jpg: ignoring corrupt image/label: non-normalized or out of bounds coordinates [     1.0385]\n",
      "\u001b[34m\u001b[1mval: \u001b[0mWARNING  D:\\ThesisFinal\\Data\\valid\\images\\1370_jpg.rf.1022362a5b0029929a6809bb22f124e2.jpg: ignoring corrupt image/label: non-normalized or out of bounds coordinates [     1.0192]\n",
      "\u001b[34m\u001b[1mval: \u001b[0mWARNING  D:\\ThesisFinal\\Data\\valid\\images\\1399_jpg.rf.c659d25d83710599a9c47dc742a623ff.jpg: ignoring corrupt image/label: non-normalized or out of bounds coordinates [     1.0687]\n",
      "\u001b[34m\u001b[1mval: \u001b[0mWARNING  D:\\ThesisFinal\\Data\\valid\\images\\1449_jpg.rf.e66c394edb74cd1c2b0e52cfd30df79c.jpg: ignoring corrupt image/label: non-normalized or out of bounds coordinates [       1.04]\n",
      "\u001b[34m\u001b[1mval: \u001b[0mWARNING  D:\\ThesisFinal\\Data\\valid\\images\\1503_jpg.rf.5ad0f363561aaf5aed364b0c0c56a2bf.jpg: ignoring corrupt image/label: non-normalized or out of bounds coordinates [     1.0486]\n",
      "\u001b[34m\u001b[1mval: \u001b[0mWARNING  D:\\ThesisFinal\\Data\\valid\\images\\1619_jpg.rf.fb8fe34efae53632d893ab1f37c022e2.jpg: ignoring corrupt image/label: non-normalized or out of bounds coordinates [     1.0279]\n",
      "\u001b[34m\u001b[1mval: \u001b[0mWARNING  D:\\ThesisFinal\\Data\\valid\\images\\1782_jpg.rf.b2fad820a0859d91681c95172fe45f91.jpg: ignoring corrupt image/label: non-normalized or out of bounds coordinates [     1.0579]\n",
      "\u001b[34m\u001b[1mval: \u001b[0mWARNING  D:\\ThesisFinal\\Data\\valid\\images\\1816_jpg.rf.07bafa0ba6c8d20ac8d9d7d7e098f270.jpg: ignoring corrupt image/label: non-normalized or out of bounds coordinates [     1.0322]\n",
      "\u001b[34m\u001b[1mval: \u001b[0mWARNING  D:\\ThesisFinal\\Data\\valid\\images\\195_png.rf.9d911e6ed6ef15bc3a413bbcdd3753a2.jpg: ignoring corrupt image/label: non-normalized or out of bounds coordinates [      1.119      1.1628]\n",
      "\u001b[34m\u001b[1mval: \u001b[0mWARNING  D:\\ThesisFinal\\Data\\valid\\images\\1996_jpg.rf.64d57923d4e88a32f28f841588853c2b.jpg: ignoring corrupt image/label: non-normalized or out of bounds coordinates [      1.036]\n",
      "\u001b[34m\u001b[1mval: \u001b[0mWARNING  D:\\ThesisFinal\\Data\\valid\\images\\1_jpg.rf.51bf1e75d064988afda9704f6f8e4dc9.jpg: ignoring corrupt image/label: non-normalized or out of bounds coordinates [     1.0431]\n",
      "\u001b[34m\u001b[1mval: \u001b[0mWARNING  D:\\ThesisFinal\\Data\\valid\\images\\210_png.rf.19e91f6d5d867176f78c0189eca6c9a0.jpg: ignoring corrupt image/label: non-normalized or out of bounds coordinates [      1.177      1.2789]\n",
      "\u001b[34m\u001b[1mval: \u001b[0mWARNING  D:\\ThesisFinal\\Data\\valid\\images\\213_png.rf.92c61b9adfe97fe2f389eefe70b55b3f.jpg: ignoring corrupt image/label: non-normalized or out of bounds coordinates [      1.003]\n",
      "\u001b[34m\u001b[1mval: \u001b[0mWARNING  D:\\ThesisFinal\\Data\\valid\\images\\220_png.rf.808ea748446682ee6e6d9b56d18da274.jpg: ignoring corrupt image/label: non-normalized or out of bounds coordinates [      1.111]\n",
      "\u001b[34m\u001b[1mval: \u001b[0mWARNING  D:\\ThesisFinal\\Data\\valid\\images\\269_png.rf.a5865b3d6d066288a92c984aef2fd519.jpg: ignoring corrupt image/label: non-normalized or out of bounds coordinates [     1.0846]\n",
      "\u001b[34m\u001b[1mval: \u001b[0mWARNING  D:\\ThesisFinal\\Data\\valid\\images\\318_png.rf.58560e671ed6be5f3910b9e141e7ce13.jpg: ignoring corrupt image/label: non-normalized or out of bounds coordinates [     1.0656]\n",
      "\u001b[34m\u001b[1mval: \u001b[0mWARNING  D:\\ThesisFinal\\Data\\valid\\images\\344_png.rf.2c4b9d34924344a50b8ac75bfe7ad958.jpg: 1 duplicate labels removed\n",
      "\u001b[34m\u001b[1mval: \u001b[0mWARNING  D:\\ThesisFinal\\Data\\valid\\images\\464_png.rf.4121b992af4048e5d59e467ad9ecfe19.jpg: ignoring corrupt image/label: non-normalized or out of bounds coordinates [     1.0333]\n",
      "\u001b[34m\u001b[1mval: \u001b[0mWARNING  D:\\ThesisFinal\\Data\\valid\\images\\517_png.rf.555214c426665deff26496a06de07768.jpg: ignoring corrupt image/label: non-normalized or out of bounds coordinates [     1.0012]\n",
      "\u001b[34m\u001b[1mval: \u001b[0mWARNING  D:\\ThesisFinal\\Data\\valid\\images\\622_png.rf.8e3320244766a5799d07ecd6b994d145.jpg: ignoring corrupt image/label: non-normalized or out of bounds coordinates [     1.0038]\n",
      "\u001b[34m\u001b[1mval: \u001b[0mWARNING  D:\\ThesisFinal\\Data\\valid\\images\\698_png.rf.27132c205cd7382ef857ee937b5ad5c7.jpg: ignoring corrupt image/label: non-normalized or out of bounds coordinates [     1.1828      1.1174]\n",
      "\u001b[34m\u001b[1mval: \u001b[0mWARNING  D:\\ThesisFinal\\Data\\valid\\images\\832_jpg.rf.e05971bf00c6744e14e8961503b08f5c.jpg: ignoring corrupt image/label: non-normalized or out of bounds coordinates [     1.1253]\n",
      "\u001b[34m\u001b[1mval: \u001b[0mWARNING  D:\\ThesisFinal\\Data\\valid\\images\\843_jpg.rf.30804cf9bc125e74d93525e237a0518d.jpg: ignoring corrupt image/label: non-normalized or out of bounds coordinates [      1.005]\n",
      "\u001b[34m\u001b[1mval: \u001b[0mWARNING  D:\\ThesisFinal\\Data\\valid\\images\\850_jpg.rf.d0bb93741a98834d1631424b80290225.jpg: ignoring corrupt image/label: non-normalized or out of bounds coordinates [     1.3417      1.4013]\n",
      "\u001b[34m\u001b[1mval: \u001b[0mWARNING  D:\\ThesisFinal\\Data\\valid\\images\\869_jpg.rf.5d9b37847584b62269e1d589676f96bd.jpg: ignoring corrupt image/label: non-normalized or out of bounds coordinates [     1.1528      1.1693]\n",
      "\u001b[34m\u001b[1mval: \u001b[0mWARNING  D:\\ThesisFinal\\Data\\valid\\images\\894_jpg.rf.0e650d6e9e5f8dca55b4936096d55b7c.jpg: ignoring corrupt image/label: non-normalized or out of bounds coordinates [      1.001]\n"
     ]
    },
    {
     "name": "stderr",
     "output_type": "stream",
     "text": [
      "\n"
     ]
    },
    {
     "name": "stdout",
     "output_type": "stream",
     "text": [
      "Plotting labels to runs\\segment\\train2\\labels.jpg... \n",
      "\u001b[34m\u001b[1moptimizer:\u001b[0m 'optimizer=auto' found, ignoring 'lr0=0.01' and 'momentum=0.937' and determining best 'optimizer', 'lr0' and 'momentum' automatically... \n",
      "\u001b[34m\u001b[1moptimizer:\u001b[0m AdamW(lr=0.001429, momentum=0.9) with parameter groups 66 weight(decay=0.0), 77 weight(decay=0.0005), 76 bias(decay=0.0)\n",
      "\u001b[34m\u001b[1mTensorBoard: \u001b[0mmodel graph visualization added \n",
      "Image sizes 640 train, 640 val\n",
      "Using 0 dataloader workers\n",
      "Logging results to \u001b[1mruns\\segment\\train2\u001b[0m\n",
      "Starting training for 100 epochs...\n",
      "\n",
      "      Epoch    GPU_mem   box_loss   seg_loss   cls_loss   dfl_loss  Instances       Size\n"
     ]
    },
    {
     "name": "stderr",
     "output_type": "stream",
     "text": [
      "      1/100         0G      1.446       4.59      3.529       1.51         65        640:   1%|          | 2/170 [00:15<21:27,  7.66s/it]\n"
     ]
    },
    {
     "ename": "KeyboardInterrupt",
     "evalue": "",
     "output_type": "error",
     "traceback": [
      "\u001b[1;31m---------------------------------------------------------------------------\u001b[0m",
      "\u001b[1;31mKeyboardInterrupt\u001b[0m                         Traceback (most recent call last)",
      "Cell \u001b[1;32mIn[4], line 1\u001b[0m\n\u001b[1;32m----> 1\u001b[0m results \u001b[38;5;241m=\u001b[39m \u001b[43mmodel\u001b[49m\u001b[38;5;241;43m.\u001b[39;49m\u001b[43mtrain\u001b[49m\u001b[43m(\u001b[49m\u001b[43mdata\u001b[49m\u001b[38;5;241;43m=\u001b[39;49m\u001b[38;5;124;43m\"\u001b[39;49m\u001b[38;5;124;43mData/data.yaml\u001b[39;49m\u001b[38;5;124;43m\"\u001b[39;49m\u001b[43m,\u001b[49m\u001b[43m \u001b[49m\u001b[43mepochs\u001b[49m\u001b[38;5;241;43m=\u001b[39;49m\u001b[38;5;241;43m100\u001b[39;49m\u001b[43m,\u001b[49m\u001b[43m \u001b[49m\u001b[43mimgsz\u001b[49m\u001b[38;5;241;43m=\u001b[39;49m\u001b[38;5;241;43m640\u001b[39;49m\u001b[43m,\u001b[49m\u001b[43m \u001b[49m\u001b[43mbatch\u001b[49m\u001b[38;5;241;43m=\u001b[39;49m\u001b[38;5;241;43m16\u001b[39;49m\u001b[43m,\u001b[49m\u001b[43m \u001b[49m\u001b[43mpatience\u001b[49m\u001b[38;5;241;43m=\u001b[39;49m\u001b[38;5;241;43m7\u001b[39;49m\u001b[43m,\u001b[49m\u001b[43m \u001b[49m\u001b[43mdevice\u001b[49m\u001b[38;5;241;43m=\u001b[39;49m\u001b[38;5;124;43m\"\u001b[39;49m\u001b[38;5;124;43mcpu\u001b[39;49m\u001b[38;5;124;43m\"\u001b[39;49m\u001b[43m)\u001b[49m\n",
      "File \u001b[1;32mc:\\Users\\Jun\\AppData\\Local\\Programs\\Python\\Python310\\lib\\site-packages\\ultralytics\\engine\\model.py:802\u001b[0m, in \u001b[0;36mModel.train\u001b[1;34m(self, trainer, **kwargs)\u001b[0m\n\u001b[0;32m    799\u001b[0m     \u001b[38;5;28mself\u001b[39m\u001b[38;5;241m.\u001b[39mmodel \u001b[38;5;241m=\u001b[39m \u001b[38;5;28mself\u001b[39m\u001b[38;5;241m.\u001b[39mtrainer\u001b[38;5;241m.\u001b[39mmodel\n\u001b[0;32m    801\u001b[0m \u001b[38;5;28mself\u001b[39m\u001b[38;5;241m.\u001b[39mtrainer\u001b[38;5;241m.\u001b[39mhub_session \u001b[38;5;241m=\u001b[39m \u001b[38;5;28mself\u001b[39m\u001b[38;5;241m.\u001b[39msession  \u001b[38;5;66;03m# attach optional HUB session\u001b[39;00m\n\u001b[1;32m--> 802\u001b[0m \u001b[38;5;28;43mself\u001b[39;49m\u001b[38;5;241;43m.\u001b[39;49m\u001b[43mtrainer\u001b[49m\u001b[38;5;241;43m.\u001b[39;49m\u001b[43mtrain\u001b[49m\u001b[43m(\u001b[49m\u001b[43m)\u001b[49m\n\u001b[0;32m    803\u001b[0m \u001b[38;5;66;03m# Update model and cfg after training\u001b[39;00m\n\u001b[0;32m    804\u001b[0m \u001b[38;5;28;01mif\u001b[39;00m RANK \u001b[38;5;129;01min\u001b[39;00m {\u001b[38;5;241m-\u001b[39m\u001b[38;5;241m1\u001b[39m, \u001b[38;5;241m0\u001b[39m}:\n",
      "File \u001b[1;32mc:\\Users\\Jun\\AppData\\Local\\Programs\\Python\\Python310\\lib\\site-packages\\ultralytics\\engine\\trainer.py:207\u001b[0m, in \u001b[0;36mBaseTrainer.train\u001b[1;34m(self)\u001b[0m\n\u001b[0;32m    204\u001b[0m         ddp_cleanup(\u001b[38;5;28mself\u001b[39m, \u001b[38;5;28mstr\u001b[39m(file))\n\u001b[0;32m    206\u001b[0m \u001b[38;5;28;01melse\u001b[39;00m:\n\u001b[1;32m--> 207\u001b[0m     \u001b[38;5;28;43mself\u001b[39;49m\u001b[38;5;241;43m.\u001b[39;49m\u001b[43m_do_train\u001b[49m\u001b[43m(\u001b[49m\u001b[43mworld_size\u001b[49m\u001b[43m)\u001b[49m\n",
      "File \u001b[1;32mc:\\Users\\Jun\\AppData\\Local\\Programs\\Python\\Python310\\lib\\site-packages\\ultralytics\\engine\\trainer.py:393\u001b[0m, in \u001b[0;36mBaseTrainer._do_train\u001b[1;34m(self, world_size)\u001b[0m\n\u001b[0;32m    388\u001b[0m     \u001b[38;5;28mself\u001b[39m\u001b[38;5;241m.\u001b[39mtloss \u001b[38;5;241m=\u001b[39m (\n\u001b[0;32m    389\u001b[0m         (\u001b[38;5;28mself\u001b[39m\u001b[38;5;241m.\u001b[39mtloss \u001b[38;5;241m*\u001b[39m i \u001b[38;5;241m+\u001b[39m \u001b[38;5;28mself\u001b[39m\u001b[38;5;241m.\u001b[39mloss_items) \u001b[38;5;241m/\u001b[39m (i \u001b[38;5;241m+\u001b[39m \u001b[38;5;241m1\u001b[39m) \u001b[38;5;28;01mif\u001b[39;00m \u001b[38;5;28mself\u001b[39m\u001b[38;5;241m.\u001b[39mtloss \u001b[38;5;129;01mis\u001b[39;00m \u001b[38;5;129;01mnot\u001b[39;00m \u001b[38;5;28;01mNone\u001b[39;00m \u001b[38;5;28;01melse\u001b[39;00m \u001b[38;5;28mself\u001b[39m\u001b[38;5;241m.\u001b[39mloss_items\n\u001b[0;32m    390\u001b[0m     )\n\u001b[0;32m    392\u001b[0m \u001b[38;5;66;03m# Backward\u001b[39;00m\n\u001b[1;32m--> 393\u001b[0m \u001b[38;5;28;43mself\u001b[39;49m\u001b[38;5;241;43m.\u001b[39;49m\u001b[43mscaler\u001b[49m\u001b[38;5;241;43m.\u001b[39;49m\u001b[43mscale\u001b[49m\u001b[43m(\u001b[49m\u001b[38;5;28;43mself\u001b[39;49m\u001b[38;5;241;43m.\u001b[39;49m\u001b[43mloss\u001b[49m\u001b[43m)\u001b[49m\u001b[38;5;241;43m.\u001b[39;49m\u001b[43mbackward\u001b[49m\u001b[43m(\u001b[49m\u001b[43m)\u001b[49m\n\u001b[0;32m    395\u001b[0m \u001b[38;5;66;03m# Optimize - https://pytorch.org/docs/master/notes/amp_examples.html\u001b[39;00m\n\u001b[0;32m    396\u001b[0m \u001b[38;5;28;01mif\u001b[39;00m ni \u001b[38;5;241m-\u001b[39m last_opt_step \u001b[38;5;241m>\u001b[39m\u001b[38;5;241m=\u001b[39m \u001b[38;5;28mself\u001b[39m\u001b[38;5;241m.\u001b[39maccumulate:\n",
      "File \u001b[1;32m~\\AppData\\Roaming\\Python\\Python310\\site-packages\\torch\\_tensor.py:487\u001b[0m, in \u001b[0;36mTensor.backward\u001b[1;34m(self, gradient, retain_graph, create_graph, inputs)\u001b[0m\n\u001b[0;32m    477\u001b[0m \u001b[38;5;28;01mif\u001b[39;00m has_torch_function_unary(\u001b[38;5;28mself\u001b[39m):\n\u001b[0;32m    478\u001b[0m     \u001b[38;5;28;01mreturn\u001b[39;00m handle_torch_function(\n\u001b[0;32m    479\u001b[0m         Tensor\u001b[38;5;241m.\u001b[39mbackward,\n\u001b[0;32m    480\u001b[0m         (\u001b[38;5;28mself\u001b[39m,),\n\u001b[1;32m   (...)\u001b[0m\n\u001b[0;32m    485\u001b[0m         inputs\u001b[38;5;241m=\u001b[39minputs,\n\u001b[0;32m    486\u001b[0m     )\n\u001b[1;32m--> 487\u001b[0m \u001b[43mtorch\u001b[49m\u001b[38;5;241;43m.\u001b[39;49m\u001b[43mautograd\u001b[49m\u001b[38;5;241;43m.\u001b[39;49m\u001b[43mbackward\u001b[49m\u001b[43m(\u001b[49m\n\u001b[0;32m    488\u001b[0m \u001b[43m    \u001b[49m\u001b[38;5;28;43mself\u001b[39;49m\u001b[43m,\u001b[49m\u001b[43m \u001b[49m\u001b[43mgradient\u001b[49m\u001b[43m,\u001b[49m\u001b[43m \u001b[49m\u001b[43mretain_graph\u001b[49m\u001b[43m,\u001b[49m\u001b[43m \u001b[49m\u001b[43mcreate_graph\u001b[49m\u001b[43m,\u001b[49m\u001b[43m \u001b[49m\u001b[43minputs\u001b[49m\u001b[38;5;241;43m=\u001b[39;49m\u001b[43minputs\u001b[49m\n\u001b[0;32m    489\u001b[0m \u001b[43m\u001b[49m\u001b[43m)\u001b[49m\n",
      "File \u001b[1;32m~\\AppData\\Roaming\\Python\\Python310\\site-packages\\torch\\autograd\\__init__.py:200\u001b[0m, in \u001b[0;36mbackward\u001b[1;34m(tensors, grad_tensors, retain_graph, create_graph, grad_variables, inputs)\u001b[0m\n\u001b[0;32m    195\u001b[0m     retain_graph \u001b[38;5;241m=\u001b[39m create_graph\n\u001b[0;32m    197\u001b[0m \u001b[38;5;66;03m# The reason we repeat same the comment below is that\u001b[39;00m\n\u001b[0;32m    198\u001b[0m \u001b[38;5;66;03m# some Python versions print out the first line of a multi-line function\u001b[39;00m\n\u001b[0;32m    199\u001b[0m \u001b[38;5;66;03m# calls in the traceback and some print out the last line\u001b[39;00m\n\u001b[1;32m--> 200\u001b[0m \u001b[43mVariable\u001b[49m\u001b[38;5;241;43m.\u001b[39;49m\u001b[43m_execution_engine\u001b[49m\u001b[38;5;241;43m.\u001b[39;49m\u001b[43mrun_backward\u001b[49m\u001b[43m(\u001b[49m\u001b[43m  \u001b[49m\u001b[38;5;66;43;03m# Calls into the C++ engine to run the backward pass\u001b[39;49;00m\n\u001b[0;32m    201\u001b[0m \u001b[43m    \u001b[49m\u001b[43mtensors\u001b[49m\u001b[43m,\u001b[49m\u001b[43m \u001b[49m\u001b[43mgrad_tensors_\u001b[49m\u001b[43m,\u001b[49m\u001b[43m \u001b[49m\u001b[43mretain_graph\u001b[49m\u001b[43m,\u001b[49m\u001b[43m \u001b[49m\u001b[43mcreate_graph\u001b[49m\u001b[43m,\u001b[49m\u001b[43m \u001b[49m\u001b[43minputs\u001b[49m\u001b[43m,\u001b[49m\n\u001b[0;32m    202\u001b[0m \u001b[43m    \u001b[49m\u001b[43mallow_unreachable\u001b[49m\u001b[38;5;241;43m=\u001b[39;49m\u001b[38;5;28;43;01mTrue\u001b[39;49;00m\u001b[43m,\u001b[49m\u001b[43m \u001b[49m\u001b[43maccumulate_grad\u001b[49m\u001b[38;5;241;43m=\u001b[39;49m\u001b[38;5;28;43;01mTrue\u001b[39;49;00m\u001b[43m)\u001b[49m\n",
      "\u001b[1;31mKeyboardInterrupt\u001b[0m: "
     ]
    },
    {
     "ename": "",
     "evalue": "",
     "output_type": "error",
     "traceback": [
      "\u001b[1;31mThe Kernel crashed while executing code in the current cell or a previous cell. \n",
      "\u001b[1;31mPlease review the code in the cell(s) to identify a possible cause of the failure. \n",
      "\u001b[1;31mClick <a href='https://aka.ms/vscodeJupyterKernelCrash'>here</a> for more info. \n",
      "\u001b[1;31mView Jupyter <a href='command:jupyter.viewOutput'>log</a> for further details."
     ]
    }
   ],
   "source": [
    "results = model.train(data=\"Data/data.yaml\", epochs=100, imgsz=640, batch=16, patience=7, device=\"cpu\")"
   ]
  },
  {
   "cell_type": "markdown",
   "metadata": {},
   "source": [
    "### Evaluating Model"
   ]
  },
  {
   "cell_type": "code",
   "execution_count": null,
   "metadata": {},
   "outputs": [
    {
     "name": "stdout",
     "output_type": "stream",
     "text": [
      "Ultralytics 8.3.2  Python-3.10.10 torch-2.4.1+cu124 CPU (AMD Ryzen 9 5900X 12-Core Processor)\n",
      "YOLOv8n-seg summary (fused): 213 layers, 2,937,369 parameters, 0 gradients, 10.7 GFLOPs\n"
     ]
    },
    {
     "name": "stderr",
     "output_type": "stream",
     "text": [
      "\u001b[34m\u001b[1mval: \u001b[0mScanning D:\\ThesisFinal\\Data\\valid\\labels.cache... 621 images, 12 backgrounds, 27 corrupt: 100%|██████████| 621/621 [00:00<?, ?it/s]"
     ]
    },
    {
     "name": "stdout",
     "output_type": "stream",
     "text": [
      "\u001b[34m\u001b[1mval: \u001b[0mWARNING  D:\\ThesisFinal\\Data\\valid\\images\\1003_jpg.rf.cc4f05a2193322a8fced4be75728222e.jpg: ignoring corrupt image/label: non-normalized or out of bounds coordinates [     1.0536]\n",
      "\u001b[34m\u001b[1mval: \u001b[0mWARNING  D:\\ThesisFinal\\Data\\valid\\images\\1034_jpg.rf.ff7e5c90ba1fde7b3ece9ec69bd3223d.jpg: ignoring corrupt image/label: non-normalized or out of bounds coordinates [     1.1563      1.1165]\n",
      "\u001b[34m\u001b[1mval: \u001b[0mWARNING  D:\\ThesisFinal\\Data\\valid\\images\\1058_jpg.rf.11860a3d15493a034c4788ad4d8a2e87.jpg: ignoring corrupt image/label: non-normalized or out of bounds coordinates [     1.0385]\n",
      "\u001b[34m\u001b[1mval: \u001b[0mWARNING  D:\\ThesisFinal\\Data\\valid\\images\\1370_jpg.rf.1022362a5b0029929a6809bb22f124e2.jpg: ignoring corrupt image/label: non-normalized or out of bounds coordinates [     1.0192]\n",
      "\u001b[34m\u001b[1mval: \u001b[0mWARNING  D:\\ThesisFinal\\Data\\valid\\images\\1399_jpg.rf.c659d25d83710599a9c47dc742a623ff.jpg: ignoring corrupt image/label: non-normalized or out of bounds coordinates [     1.0687]\n",
      "\u001b[34m\u001b[1mval: \u001b[0mWARNING  D:\\ThesisFinal\\Data\\valid\\images\\1449_jpg.rf.e66c394edb74cd1c2b0e52cfd30df79c.jpg: ignoring corrupt image/label: non-normalized or out of bounds coordinates [       1.04]\n",
      "\u001b[34m\u001b[1mval: \u001b[0mWARNING  D:\\ThesisFinal\\Data\\valid\\images\\1503_jpg.rf.5ad0f363561aaf5aed364b0c0c56a2bf.jpg: ignoring corrupt image/label: non-normalized or out of bounds coordinates [     1.0486]\n",
      "\u001b[34m\u001b[1mval: \u001b[0mWARNING  D:\\ThesisFinal\\Data\\valid\\images\\1619_jpg.rf.fb8fe34efae53632d893ab1f37c022e2.jpg: ignoring corrupt image/label: non-normalized or out of bounds coordinates [     1.0279]\n",
      "\u001b[34m\u001b[1mval: \u001b[0mWARNING  D:\\ThesisFinal\\Data\\valid\\images\\1782_jpg.rf.b2fad820a0859d91681c95172fe45f91.jpg: ignoring corrupt image/label: non-normalized or out of bounds coordinates [     1.0579]\n",
      "\u001b[34m\u001b[1mval: \u001b[0mWARNING  D:\\ThesisFinal\\Data\\valid\\images\\1816_jpg.rf.07bafa0ba6c8d20ac8d9d7d7e098f270.jpg: ignoring corrupt image/label: non-normalized or out of bounds coordinates [     1.0322]\n",
      "\u001b[34m\u001b[1mval: \u001b[0mWARNING  D:\\ThesisFinal\\Data\\valid\\images\\195_png.rf.9d911e6ed6ef15bc3a413bbcdd3753a2.jpg: ignoring corrupt image/label: non-normalized or out of bounds coordinates [      1.119      1.1628]\n",
      "\u001b[34m\u001b[1mval: \u001b[0mWARNING  D:\\ThesisFinal\\Data\\valid\\images\\1996_jpg.rf.64d57923d4e88a32f28f841588853c2b.jpg: ignoring corrupt image/label: non-normalized or out of bounds coordinates [      1.036]\n",
      "\u001b[34m\u001b[1mval: \u001b[0mWARNING  D:\\ThesisFinal\\Data\\valid\\images\\1_jpg.rf.51bf1e75d064988afda9704f6f8e4dc9.jpg: ignoring corrupt image/label: non-normalized or out of bounds coordinates [     1.0431]\n",
      "\u001b[34m\u001b[1mval: \u001b[0mWARNING  D:\\ThesisFinal\\Data\\valid\\images\\210_png.rf.19e91f6d5d867176f78c0189eca6c9a0.jpg: ignoring corrupt image/label: non-normalized or out of bounds coordinates [      1.177      1.2789]\n",
      "\u001b[34m\u001b[1mval: \u001b[0mWARNING  D:\\ThesisFinal\\Data\\valid\\images\\213_png.rf.92c61b9adfe97fe2f389eefe70b55b3f.jpg: ignoring corrupt image/label: non-normalized or out of bounds coordinates [      1.003]\n",
      "\u001b[34m\u001b[1mval: \u001b[0mWARNING  D:\\ThesisFinal\\Data\\valid\\images\\220_png.rf.808ea748446682ee6e6d9b56d18da274.jpg: ignoring corrupt image/label: non-normalized or out of bounds coordinates [      1.111]\n",
      "\u001b[34m\u001b[1mval: \u001b[0mWARNING  D:\\ThesisFinal\\Data\\valid\\images\\269_png.rf.a5865b3d6d066288a92c984aef2fd519.jpg: ignoring corrupt image/label: non-normalized or out of bounds coordinates [     1.0846]\n",
      "\u001b[34m\u001b[1mval: \u001b[0mWARNING  D:\\ThesisFinal\\Data\\valid\\images\\318_png.rf.58560e671ed6be5f3910b9e141e7ce13.jpg: ignoring corrupt image/label: non-normalized or out of bounds coordinates [     1.0656]\n",
      "\u001b[34m\u001b[1mval: \u001b[0mWARNING  D:\\ThesisFinal\\Data\\valid\\images\\344_png.rf.2c4b9d34924344a50b8ac75bfe7ad958.jpg: 1 duplicate labels removed\n",
      "\u001b[34m\u001b[1mval: \u001b[0mWARNING  D:\\ThesisFinal\\Data\\valid\\images\\464_png.rf.4121b992af4048e5d59e467ad9ecfe19.jpg: ignoring corrupt image/label: non-normalized or out of bounds coordinates [     1.0333]\n",
      "\u001b[34m\u001b[1mval: \u001b[0mWARNING  D:\\ThesisFinal\\Data\\valid\\images\\517_png.rf.555214c426665deff26496a06de07768.jpg: ignoring corrupt image/label: non-normalized or out of bounds coordinates [     1.0012]\n",
      "\u001b[34m\u001b[1mval: \u001b[0mWARNING  D:\\ThesisFinal\\Data\\valid\\images\\622_png.rf.8e3320244766a5799d07ecd6b994d145.jpg: ignoring corrupt image/label: non-normalized or out of bounds coordinates [     1.0038]\n",
      "\u001b[34m\u001b[1mval: \u001b[0mWARNING  D:\\ThesisFinal\\Data\\valid\\images\\698_png.rf.27132c205cd7382ef857ee937b5ad5c7.jpg: ignoring corrupt image/label: non-normalized or out of bounds coordinates [     1.1828      1.1174]\n",
      "\u001b[34m\u001b[1mval: \u001b[0mWARNING  D:\\ThesisFinal\\Data\\valid\\images\\832_jpg.rf.e05971bf00c6744e14e8961503b08f5c.jpg: ignoring corrupt image/label: non-normalized or out of bounds coordinates [     1.1253]\n",
      "\u001b[34m\u001b[1mval: \u001b[0mWARNING  D:\\ThesisFinal\\Data\\valid\\images\\843_jpg.rf.30804cf9bc125e74d93525e237a0518d.jpg: ignoring corrupt image/label: non-normalized or out of bounds coordinates [      1.005]\n",
      "\u001b[34m\u001b[1mval: \u001b[0mWARNING  D:\\ThesisFinal\\Data\\valid\\images\\850_jpg.rf.d0bb93741a98834d1631424b80290225.jpg: ignoring corrupt image/label: non-normalized or out of bounds coordinates [     1.3417      1.4013]\n",
      "\u001b[34m\u001b[1mval: \u001b[0mWARNING  D:\\ThesisFinal\\Data\\valid\\images\\869_jpg.rf.5d9b37847584b62269e1d589676f96bd.jpg: ignoring corrupt image/label: non-normalized or out of bounds coordinates [     1.1528      1.1693]\n",
      "\u001b[34m\u001b[1mval: \u001b[0mWARNING  D:\\ThesisFinal\\Data\\valid\\images\\894_jpg.rf.0e650d6e9e5f8dca55b4936096d55b7c.jpg: ignoring corrupt image/label: non-normalized or out of bounds coordinates [      1.001]\n"
     ]
    },
    {
     "name": "stderr",
     "output_type": "stream",
     "text": [
      "\n",
      "                 Class     Images  Instances      Box(P          R      mAP50  mAP50-95)     Mask(P          R      mAP50  mAP50-95): 100%|██████████| 38/38 [00:34<00:00,  1.09it/s]\n"
     ]
    },
    {
     "name": "stdout",
     "output_type": "stream",
     "text": [
      "                   all        594       1151      0.752      0.639      0.707      0.523      0.741       0.63      0.685      0.463\n",
      "                 Metal        228        289      0.858      0.799      0.871      0.701      0.858      0.799       0.87      0.666\n",
      "          Paper-Carton        235        531      0.784      0.597       0.71      0.496       0.75      0.571      0.655      0.403\n",
      "               Plastic        169        331      0.615      0.521      0.541      0.372      0.615      0.521      0.531      0.322\n",
      "Speed: 1.0ms preprocess, 47.6ms inference, 0.0ms loss, 0.3ms postprocess per image\n",
      "Results saved to \u001b[1mruns\\segment\\val4\u001b[0m\n"
     ]
    }
   ],
   "source": [
    "model = YOLO(\"Results/weights/best.pt\")  \n",
    "\n",
    "results = model.val(data=\"DataSet/Yolo/data.yaml\", device='cpu')"
   ]
  },
  {
   "cell_type": "code",
   "execution_count": null,
   "metadata": {},
   "outputs": [
    {
     "name": "stdout",
     "output_type": "stream",
     "text": [
      "Evaluation Results:\n",
      "mAP@0.5: 0.7072658425595644\n",
      "mAP@0.5:0.95: 0.5230452962209783\n",
      "Precision: 0.7523625419188452\n",
      "Recall: 0.6392053834490808\n"
     ]
    }
   ],
   "source": [
    "print(\"Evaluation Results:\")\n",
    "print(f\"mAP@0.5: {results.results_dict['metrics/mAP50(B)']}\")\n",
    "print(f\"mAP@0.5:0.95: {results.results_dict['metrics/mAP50-95(B)']}\")\n",
    "print(f\"Precision: {results.results_dict['metrics/precision(B)']}\")\n",
    "print(f\"Recall: {results.results_dict['metrics/recall(B)']}\")"
   ]
  },
  {
   "cell_type": "code",
   "execution_count": null,
   "metadata": {},
   "outputs": [
    {
     "name": "stdout",
     "output_type": "stream",
     "text": [
      "Ultralytics 8.3.2  Python-3.10.10 torch-2.4.1+cu124 CPU (AMD Ryzen 9 5900X 12-Core Processor)\n"
     ]
    },
    {
     "name": "stderr",
     "output_type": "stream",
     "text": [
      "\u001b[34m\u001b[1mval: \u001b[0mScanning D:\\ThesisFinal\\Data\\valid\\labels.cache... 621 images, 12 backgrounds, 27 corrupt: 100%|██████████| 621/621 [00:00<?, ?it/s]"
     ]
    },
    {
     "name": "stdout",
     "output_type": "stream",
     "text": [
      "\u001b[34m\u001b[1mval: \u001b[0mWARNING  D:\\ThesisFinal\\Data\\valid\\images\\1003_jpg.rf.cc4f05a2193322a8fced4be75728222e.jpg: ignoring corrupt image/label: non-normalized or out of bounds coordinates [     1.0536]\n",
      "\u001b[34m\u001b[1mval: \u001b[0mWARNING  D:\\ThesisFinal\\Data\\valid\\images\\1034_jpg.rf.ff7e5c90ba1fde7b3ece9ec69bd3223d.jpg: ignoring corrupt image/label: non-normalized or out of bounds coordinates [     1.1563      1.1165]\n",
      "\u001b[34m\u001b[1mval: \u001b[0mWARNING  D:\\ThesisFinal\\Data\\valid\\images\\1058_jpg.rf.11860a3d15493a034c4788ad4d8a2e87.jpg: ignoring corrupt image/label: non-normalized or out of bounds coordinates [     1.0385]\n",
      "\u001b[34m\u001b[1mval: \u001b[0mWARNING  D:\\ThesisFinal\\Data\\valid\\images\\1370_jpg.rf.1022362a5b0029929a6809bb22f124e2.jpg: ignoring corrupt image/label: non-normalized or out of bounds coordinates [     1.0192]\n",
      "\u001b[34m\u001b[1mval: \u001b[0mWARNING  D:\\ThesisFinal\\Data\\valid\\images\\1399_jpg.rf.c659d25d83710599a9c47dc742a623ff.jpg: ignoring corrupt image/label: non-normalized or out of bounds coordinates [     1.0687]\n",
      "\u001b[34m\u001b[1mval: \u001b[0mWARNING  D:\\ThesisFinal\\Data\\valid\\images\\1449_jpg.rf.e66c394edb74cd1c2b0e52cfd30df79c.jpg: ignoring corrupt image/label: non-normalized or out of bounds coordinates [       1.04]\n",
      "\u001b[34m\u001b[1mval: \u001b[0mWARNING  D:\\ThesisFinal\\Data\\valid\\images\\1503_jpg.rf.5ad0f363561aaf5aed364b0c0c56a2bf.jpg: ignoring corrupt image/label: non-normalized or out of bounds coordinates [     1.0486]\n",
      "\u001b[34m\u001b[1mval: \u001b[0mWARNING  D:\\ThesisFinal\\Data\\valid\\images\\1619_jpg.rf.fb8fe34efae53632d893ab1f37c022e2.jpg: ignoring corrupt image/label: non-normalized or out of bounds coordinates [     1.0279]\n",
      "\u001b[34m\u001b[1mval: \u001b[0mWARNING  D:\\ThesisFinal\\Data\\valid\\images\\1782_jpg.rf.b2fad820a0859d91681c95172fe45f91.jpg: ignoring corrupt image/label: non-normalized or out of bounds coordinates [     1.0579]\n",
      "\u001b[34m\u001b[1mval: \u001b[0mWARNING  D:\\ThesisFinal\\Data\\valid\\images\\1816_jpg.rf.07bafa0ba6c8d20ac8d9d7d7e098f270.jpg: ignoring corrupt image/label: non-normalized or out of bounds coordinates [     1.0322]\n",
      "\u001b[34m\u001b[1mval: \u001b[0mWARNING  D:\\ThesisFinal\\Data\\valid\\images\\195_png.rf.9d911e6ed6ef15bc3a413bbcdd3753a2.jpg: ignoring corrupt image/label: non-normalized or out of bounds coordinates [      1.119      1.1628]\n",
      "\u001b[34m\u001b[1mval: \u001b[0mWARNING  D:\\ThesisFinal\\Data\\valid\\images\\1996_jpg.rf.64d57923d4e88a32f28f841588853c2b.jpg: ignoring corrupt image/label: non-normalized or out of bounds coordinates [      1.036]\n",
      "\u001b[34m\u001b[1mval: \u001b[0mWARNING  D:\\ThesisFinal\\Data\\valid\\images\\1_jpg.rf.51bf1e75d064988afda9704f6f8e4dc9.jpg: ignoring corrupt image/label: non-normalized or out of bounds coordinates [     1.0431]\n",
      "\u001b[34m\u001b[1mval: \u001b[0mWARNING  D:\\ThesisFinal\\Data\\valid\\images\\210_png.rf.19e91f6d5d867176f78c0189eca6c9a0.jpg: ignoring corrupt image/label: non-normalized or out of bounds coordinates [      1.177      1.2789]\n",
      "\u001b[34m\u001b[1mval: \u001b[0mWARNING  D:\\ThesisFinal\\Data\\valid\\images\\213_png.rf.92c61b9adfe97fe2f389eefe70b55b3f.jpg: ignoring corrupt image/label: non-normalized or out of bounds coordinates [      1.003]\n",
      "\u001b[34m\u001b[1mval: \u001b[0mWARNING  D:\\ThesisFinal\\Data\\valid\\images\\220_png.rf.808ea748446682ee6e6d9b56d18da274.jpg: ignoring corrupt image/label: non-normalized or out of bounds coordinates [      1.111]\n",
      "\u001b[34m\u001b[1mval: \u001b[0mWARNING  D:\\ThesisFinal\\Data\\valid\\images\\269_png.rf.a5865b3d6d066288a92c984aef2fd519.jpg: ignoring corrupt image/label: non-normalized or out of bounds coordinates [     1.0846]\n",
      "\u001b[34m\u001b[1mval: \u001b[0mWARNING  D:\\ThesisFinal\\Data\\valid\\images\\318_png.rf.58560e671ed6be5f3910b9e141e7ce13.jpg: ignoring corrupt image/label: non-normalized or out of bounds coordinates [     1.0656]\n",
      "\u001b[34m\u001b[1mval: \u001b[0mWARNING  D:\\ThesisFinal\\Data\\valid\\images\\344_png.rf.2c4b9d34924344a50b8ac75bfe7ad958.jpg: 1 duplicate labels removed\n",
      "\u001b[34m\u001b[1mval: \u001b[0mWARNING  D:\\ThesisFinal\\Data\\valid\\images\\464_png.rf.4121b992af4048e5d59e467ad9ecfe19.jpg: ignoring corrupt image/label: non-normalized or out of bounds coordinates [     1.0333]\n",
      "\u001b[34m\u001b[1mval: \u001b[0mWARNING  D:\\ThesisFinal\\Data\\valid\\images\\517_png.rf.555214c426665deff26496a06de07768.jpg: ignoring corrupt image/label: non-normalized or out of bounds coordinates [     1.0012]\n",
      "\u001b[34m\u001b[1mval: \u001b[0mWARNING  D:\\ThesisFinal\\Data\\valid\\images\\622_png.rf.8e3320244766a5799d07ecd6b994d145.jpg: ignoring corrupt image/label: non-normalized or out of bounds coordinates [     1.0038]\n",
      "\u001b[34m\u001b[1mval: \u001b[0mWARNING  D:\\ThesisFinal\\Data\\valid\\images\\698_png.rf.27132c205cd7382ef857ee937b5ad5c7.jpg: ignoring corrupt image/label: non-normalized or out of bounds coordinates [     1.1828      1.1174]\n",
      "\u001b[34m\u001b[1mval: \u001b[0mWARNING  D:\\ThesisFinal\\Data\\valid\\images\\832_jpg.rf.e05971bf00c6744e14e8961503b08f5c.jpg: ignoring corrupt image/label: non-normalized or out of bounds coordinates [     1.1253]\n",
      "\u001b[34m\u001b[1mval: \u001b[0mWARNING  D:\\ThesisFinal\\Data\\valid\\images\\843_jpg.rf.30804cf9bc125e74d93525e237a0518d.jpg: ignoring corrupt image/label: non-normalized or out of bounds coordinates [      1.005]\n",
      "\u001b[34m\u001b[1mval: \u001b[0mWARNING  D:\\ThesisFinal\\Data\\valid\\images\\850_jpg.rf.d0bb93741a98834d1631424b80290225.jpg: ignoring corrupt image/label: non-normalized or out of bounds coordinates [     1.3417      1.4013]\n",
      "\u001b[34m\u001b[1mval: \u001b[0mWARNING  D:\\ThesisFinal\\Data\\valid\\images\\869_jpg.rf.5d9b37847584b62269e1d589676f96bd.jpg: ignoring corrupt image/label: non-normalized or out of bounds coordinates [     1.1528      1.1693]\n",
      "\u001b[34m\u001b[1mval: \u001b[0mWARNING  D:\\ThesisFinal\\Data\\valid\\images\\894_jpg.rf.0e650d6e9e5f8dca55b4936096d55b7c.jpg: ignoring corrupt image/label: non-normalized or out of bounds coordinates [      1.001]\n"
     ]
    },
    {
     "name": "stderr",
     "output_type": "stream",
     "text": [
      "\n",
      "                 Class     Images  Instances      Box(P          R      mAP50  mAP50-95)     Mask(P          R      mAP50  mAP50-95): 100%|██████████| 38/38 [00:34<00:00,  1.09it/s]\n"
     ]
    },
    {
     "name": "stdout",
     "output_type": "stream",
     "text": [
      "                   all        594       1151      0.752      0.639      0.707      0.523      0.741       0.63      0.685      0.463\n",
      "                 Metal        228        289      0.858      0.799      0.871      0.701      0.858      0.799       0.87      0.666\n",
      "          Paper-Carton        235        531      0.784      0.597       0.71      0.496       0.75      0.571      0.655      0.403\n",
      "               Plastic        169        331      0.615      0.521      0.541      0.372      0.615      0.521      0.531      0.322\n"
     ]
    },
    {
     "name": "stderr",
     "output_type": "stream",
     "text": [
      "Exception ignored in: <function _MultiProcessingDataLoaderIter.__del__ at 0x00000230BF99B490>\n",
      "Traceback (most recent call last):\n",
      "  File \"c:\\Users\\Jun\\AppData\\Local\\Programs\\Python\\Python310\\lib\\site-packages\\torch\\utils\\data\\dataloader.py\", line 1477, in __del__\n",
      "  File \"c:\\Users\\Jun\\AppData\\Local\\Programs\\Python\\Python310\\lib\\site-packages\\torch\\utils\\data\\dataloader.py\", line 1435, in _shutdown_workers\n",
      "AttributeError: '_MultiProcessingDataLoaderIter' object has no attribute '_workers_status'\n"
     ]
    },
    {
     "name": "stdout",
     "output_type": "stream",
     "text": [
      "Speed: 1.0ms preprocess, 47.9ms inference, 0.0ms loss, 0.3ms postprocess per image\n",
      "Results saved to \u001b[1mruns\\segment\\val5\u001b[0m\n"
     ]
    }
   ],
   "source": [
    "results = model.val(data=\"DataSet/Yolo/data.yaml\", device=\"cpu\", plots=True)  # 'plots=True' generates the plots"
   ]
  }
 ],
 "metadata": {
  "kernelspec": {
   "display_name": "Python 3",
   "language": "python",
   "name": "python3"
  },
  "language_info": {
   "codemirror_mode": {
    "name": "ipython",
    "version": 3
   },
   "file_extension": ".py",
   "mimetype": "text/x-python",
   "name": "python",
   "nbconvert_exporter": "python",
   "pygments_lexer": "ipython3",
   "version": "3.10.10"
  }
 },
 "nbformat": 4,
 "nbformat_minor": 2
}
